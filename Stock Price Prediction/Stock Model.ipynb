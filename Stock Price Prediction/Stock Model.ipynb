{
 "cells": [
  {
   "cell_type": "code",
   "execution_count": 5,
   "metadata": {},
   "outputs": [
    {
     "data": {
      "text/html": [
       "<div>\n",
       "<style scoped>\n",
       "    .dataframe tbody tr th:only-of-type {\n",
       "        vertical-align: middle;\n",
       "    }\n",
       "\n",
       "    .dataframe tbody tr th {\n",
       "        vertical-align: top;\n",
       "    }\n",
       "\n",
       "    .dataframe thead th {\n",
       "        text-align: right;\n",
       "    }\n",
       "</style>\n",
       "<table border=\"1\" class=\"dataframe\">\n",
       "  <thead>\n",
       "    <tr style=\"text-align: right;\">\n",
       "      <th></th>\n",
       "      <th>Date</th>\n",
       "      <th>Open</th>\n",
       "      <th>High</th>\n",
       "      <th>Low</th>\n",
       "      <th>Close</th>\n",
       "      <th>Adj Close</th>\n",
       "      <th>Volume</th>\n",
       "    </tr>\n",
       "  </thead>\n",
       "  <tbody>\n",
       "    <tr>\n",
       "      <th>0</th>\n",
       "      <td>2012-05-18</td>\n",
       "      <td>42.049999</td>\n",
       "      <td>45.000000</td>\n",
       "      <td>38.000000</td>\n",
       "      <td>38.230000</td>\n",
       "      <td>38.230000</td>\n",
       "      <td>573576400</td>\n",
       "    </tr>\n",
       "    <tr>\n",
       "      <th>1</th>\n",
       "      <td>2012-05-21</td>\n",
       "      <td>36.529999</td>\n",
       "      <td>36.660000</td>\n",
       "      <td>33.000000</td>\n",
       "      <td>34.029999</td>\n",
       "      <td>34.029999</td>\n",
       "      <td>168192700</td>\n",
       "    </tr>\n",
       "    <tr>\n",
       "      <th>2</th>\n",
       "      <td>2012-05-22</td>\n",
       "      <td>32.610001</td>\n",
       "      <td>33.590000</td>\n",
       "      <td>30.940001</td>\n",
       "      <td>31.000000</td>\n",
       "      <td>31.000000</td>\n",
       "      <td>101786600</td>\n",
       "    </tr>\n",
       "    <tr>\n",
       "      <th>3</th>\n",
       "      <td>2012-05-23</td>\n",
       "      <td>31.370001</td>\n",
       "      <td>32.500000</td>\n",
       "      <td>31.360001</td>\n",
       "      <td>32.000000</td>\n",
       "      <td>32.000000</td>\n",
       "      <td>73600000</td>\n",
       "    </tr>\n",
       "    <tr>\n",
       "      <th>4</th>\n",
       "      <td>2012-05-24</td>\n",
       "      <td>32.950001</td>\n",
       "      <td>33.209999</td>\n",
       "      <td>31.770000</td>\n",
       "      <td>33.029999</td>\n",
       "      <td>33.029999</td>\n",
       "      <td>50237200</td>\n",
       "    </tr>\n",
       "    <tr>\n",
       "      <th>...</th>\n",
       "      <td>...</td>\n",
       "      <td>...</td>\n",
       "      <td>...</td>\n",
       "      <td>...</td>\n",
       "      <td>...</td>\n",
       "      <td>...</td>\n",
       "      <td>...</td>\n",
       "    </tr>\n",
       "    <tr>\n",
       "      <th>2946</th>\n",
       "      <td>2024-02-05</td>\n",
       "      <td>469.880005</td>\n",
       "      <td>471.899994</td>\n",
       "      <td>459.220001</td>\n",
       "      <td>459.410004</td>\n",
       "      <td>459.410004</td>\n",
       "      <td>40832400</td>\n",
       "    </tr>\n",
       "    <tr>\n",
       "      <th>2947</th>\n",
       "      <td>2024-02-06</td>\n",
       "      <td>464.000000</td>\n",
       "      <td>467.119995</td>\n",
       "      <td>453.000000</td>\n",
       "      <td>454.720001</td>\n",
       "      <td>454.720001</td>\n",
       "      <td>21655200</td>\n",
       "    </tr>\n",
       "    <tr>\n",
       "      <th>2948</th>\n",
       "      <td>2024-02-07</td>\n",
       "      <td>458.000000</td>\n",
       "      <td>471.519989</td>\n",
       "      <td>456.179993</td>\n",
       "      <td>469.589996</td>\n",
       "      <td>469.589996</td>\n",
       "      <td>23066000</td>\n",
       "    </tr>\n",
       "    <tr>\n",
       "      <th>2949</th>\n",
       "      <td>2024-02-08</td>\n",
       "      <td>468.320007</td>\n",
       "      <td>470.589996</td>\n",
       "      <td>465.029999</td>\n",
       "      <td>470.000000</td>\n",
       "      <td>470.000000</td>\n",
       "      <td>18815100</td>\n",
       "    </tr>\n",
       "    <tr>\n",
       "      <th>2950</th>\n",
       "      <td>2024-02-09</td>\n",
       "      <td>472.950012</td>\n",
       "      <td>473.589996</td>\n",
       "      <td>467.470001</td>\n",
       "      <td>468.109985</td>\n",
       "      <td>468.109985</td>\n",
       "      <td>18398400</td>\n",
       "    </tr>\n",
       "  </tbody>\n",
       "</table>\n",
       "<p>2951 rows × 7 columns</p>\n",
       "</div>"
      ],
      "text/plain": [
       "            Date        Open        High         Low       Close   Adj Close   \n",
       "0     2012-05-18   42.049999   45.000000   38.000000   38.230000   38.230000  \\\n",
       "1     2012-05-21   36.529999   36.660000   33.000000   34.029999   34.029999   \n",
       "2     2012-05-22   32.610001   33.590000   30.940001   31.000000   31.000000   \n",
       "3     2012-05-23   31.370001   32.500000   31.360001   32.000000   32.000000   \n",
       "4     2012-05-24   32.950001   33.209999   31.770000   33.029999   33.029999   \n",
       "...          ...         ...         ...         ...         ...         ...   \n",
       "2946  2024-02-05  469.880005  471.899994  459.220001  459.410004  459.410004   \n",
       "2947  2024-02-06  464.000000  467.119995  453.000000  454.720001  454.720001   \n",
       "2948  2024-02-07  458.000000  471.519989  456.179993  469.589996  469.589996   \n",
       "2949  2024-02-08  468.320007  470.589996  465.029999  470.000000  470.000000   \n",
       "2950  2024-02-09  472.950012  473.589996  467.470001  468.109985  468.109985   \n",
       "\n",
       "         Volume  \n",
       "0     573576400  \n",
       "1     168192700  \n",
       "2     101786600  \n",
       "3      73600000  \n",
       "4      50237200  \n",
       "...         ...  \n",
       "2946   40832400  \n",
       "2947   21655200  \n",
       "2948   23066000  \n",
       "2949   18815100  \n",
       "2950   18398400  \n",
       "\n",
       "[2951 rows x 7 columns]"
      ]
     },
     "execution_count": 5,
     "metadata": {},
     "output_type": "execute_result"
    }
   ],
   "source": [
    "import pandas as pd\n",
    "import numpy as np\n",
    "import matplotlib.pyplot as plt\n",
    "\n",
    "import torch\n",
    "import torch.nn as nn\n",
    "\n",
    "data = pd.read_csv('META.csv')\n",
    "\n",
    "data"
   ]
  },
  {
   "cell_type": "code",
   "execution_count": 6,
   "metadata": {},
   "outputs": [
    {
     "data": {
      "text/html": [
       "<div>\n",
       "<style scoped>\n",
       "    .dataframe tbody tr th:only-of-type {\n",
       "        vertical-align: middle;\n",
       "    }\n",
       "\n",
       "    .dataframe tbody tr th {\n",
       "        vertical-align: top;\n",
       "    }\n",
       "\n",
       "    .dataframe thead th {\n",
       "        text-align: right;\n",
       "    }\n",
       "</style>\n",
       "<table border=\"1\" class=\"dataframe\">\n",
       "  <thead>\n",
       "    <tr style=\"text-align: right;\">\n",
       "      <th></th>\n",
       "      <th>Date</th>\n",
       "      <th>Close</th>\n",
       "    </tr>\n",
       "  </thead>\n",
       "  <tbody>\n",
       "    <tr>\n",
       "      <th>0</th>\n",
       "      <td>2012-05-18</td>\n",
       "      <td>38.230000</td>\n",
       "    </tr>\n",
       "    <tr>\n",
       "      <th>1</th>\n",
       "      <td>2012-05-21</td>\n",
       "      <td>34.029999</td>\n",
       "    </tr>\n",
       "    <tr>\n",
       "      <th>2</th>\n",
       "      <td>2012-05-22</td>\n",
       "      <td>31.000000</td>\n",
       "    </tr>\n",
       "    <tr>\n",
       "      <th>3</th>\n",
       "      <td>2012-05-23</td>\n",
       "      <td>32.000000</td>\n",
       "    </tr>\n",
       "    <tr>\n",
       "      <th>4</th>\n",
       "      <td>2012-05-24</td>\n",
       "      <td>33.029999</td>\n",
       "    </tr>\n",
       "    <tr>\n",
       "      <th>...</th>\n",
       "      <td>...</td>\n",
       "      <td>...</td>\n",
       "    </tr>\n",
       "    <tr>\n",
       "      <th>2946</th>\n",
       "      <td>2024-02-05</td>\n",
       "      <td>459.410004</td>\n",
       "    </tr>\n",
       "    <tr>\n",
       "      <th>2947</th>\n",
       "      <td>2024-02-06</td>\n",
       "      <td>454.720001</td>\n",
       "    </tr>\n",
       "    <tr>\n",
       "      <th>2948</th>\n",
       "      <td>2024-02-07</td>\n",
       "      <td>469.589996</td>\n",
       "    </tr>\n",
       "    <tr>\n",
       "      <th>2949</th>\n",
       "      <td>2024-02-08</td>\n",
       "      <td>470.000000</td>\n",
       "    </tr>\n",
       "    <tr>\n",
       "      <th>2950</th>\n",
       "      <td>2024-02-09</td>\n",
       "      <td>468.109985</td>\n",
       "    </tr>\n",
       "  </tbody>\n",
       "</table>\n",
       "<p>2951 rows × 2 columns</p>\n",
       "</div>"
      ],
      "text/plain": [
       "            Date       Close\n",
       "0     2012-05-18   38.230000\n",
       "1     2012-05-21   34.029999\n",
       "2     2012-05-22   31.000000\n",
       "3     2012-05-23   32.000000\n",
       "4     2012-05-24   33.029999\n",
       "...          ...         ...\n",
       "2946  2024-02-05  459.410004\n",
       "2947  2024-02-06  454.720001\n",
       "2948  2024-02-07  469.589996\n",
       "2949  2024-02-08  470.000000\n",
       "2950  2024-02-09  468.109985\n",
       "\n",
       "[2951 rows x 2 columns]"
      ]
     },
     "execution_count": 6,
     "metadata": {},
     "output_type": "execute_result"
    }
   ],
   "source": [
    "data = data[['Date', 'Close']]\n",
    "data"
   ]
  },
  {
   "cell_type": "code",
   "execution_count": 7,
   "metadata": {},
   "outputs": [
    {
     "data": {
      "text/plain": [
       "'cpu'"
      ]
     },
     "execution_count": 7,
     "metadata": {},
     "output_type": "execute_result"
    }
   ],
   "source": [
    "# Device agnostiv code\n",
    "device = 'cuda' if torch.cuda.is_available() else 'cpu'\n",
    "device"
   ]
  },
  {
   "cell_type": "code",
   "execution_count": 8,
   "metadata": {},
   "outputs": [
    {
     "name": "stderr",
     "output_type": "stream",
     "text": [
      "C:\\Users\\Kumud Jain\\AppData\\Local\\Temp\\ipykernel_5060\\469103719.py:1: SettingWithCopyWarning: \n",
      "A value is trying to be set on a copy of a slice from a DataFrame.\n",
      "Try using .loc[row_indexer,col_indexer] = value instead\n",
      "\n",
      "See the caveats in the documentation: https://pandas.pydata.org/pandas-docs/stable/user_guide/indexing.html#returning-a-view-versus-a-copy\n",
      "  data['Date'] = pd.to_datetime(data['Date'])\n"
     ]
    },
    {
     "data": {
      "text/plain": [
       "0      2012-05-18\n",
       "1      2012-05-21\n",
       "2      2012-05-22\n",
       "3      2012-05-23\n",
       "4      2012-05-24\n",
       "          ...    \n",
       "2946   2024-02-05\n",
       "2947   2024-02-06\n",
       "2948   2024-02-07\n",
       "2949   2024-02-08\n",
       "2950   2024-02-09\n",
       "Name: Date, Length: 2951, dtype: datetime64[ns]"
      ]
     },
     "execution_count": 8,
     "metadata": {},
     "output_type": "execute_result"
    }
   ],
   "source": [
    "data['Date'] = pd.to_datetime(data['Date'])\n",
    "data['Date']"
   ]
  },
  {
   "cell_type": "code",
   "execution_count": 9,
   "metadata": {},
   "outputs": [
    {
     "data": {
      "text/plain": [
       "[<matplotlib.lines.Line2D at 0x208ea1c6410>]"
      ]
     },
     "execution_count": 9,
     "metadata": {},
     "output_type": "execute_result"
    },
    {
     "data": {
      "image/png": "[encoded data removed]",
      "text/plain": [
       "<Figure size 640x480 with 1 Axes>"
      ]
     },
     "metadata": {},
     "output_type": "display_data"
    }
   ],
   "source": [
    "plt.plot(data['Date'], data['Close'])"
   ]
  },
  {
   "cell_type": "code",
   "execution_count": 10,
   "metadata": {},
   "outputs": [
    {
     "data": {
      "text/html": [
       "<div>\n",
       "<style scoped>\n",
       "    .dataframe tbody tr th:only-of-type {\n",
       "        vertical-align: middle;\n",
       "    }\n",
       "\n",
       "    .dataframe tbody tr th {\n",
       "        vertical-align: top;\n",
       "    }\n",
       "\n",
       "    .dataframe thead th {\n",
       "        text-align: right;\n",
       "    }\n",
       "</style>\n",
       "<table border=\"1\" class=\"dataframe\">\n",
       "  <thead>\n",
       "    <tr style=\"text-align: right;\">\n",
       "      <th></th>\n",
       "      <th>Close</th>\n",
       "      <th>Close(t-1)</th>\n",
       "      <th>Close(t-2)</th>\n",
       "      <th>Close(t-3)</th>\n",
       "      <th>Close(t-4)</th>\n",
       "      <th>Close(t-5)</th>\n",
       "      <th>Close(t-6)</th>\n",
       "      <th>Close(t-7)</th>\n",
       "    </tr>\n",
       "    <tr>\n",
       "      <th>Date</th>\n",
       "      <th></th>\n",
       "      <th></th>\n",
       "      <th></th>\n",
       "      <th></th>\n",
       "      <th></th>\n",
       "      <th></th>\n",
       "      <th></th>\n",
       "      <th></th>\n",
       "    </tr>\n",
       "  </thead>\n",
       "  <tbody>\n",
       "    <tr>\n",
       "      <th>2012-05-30</th>\n",
       "      <td>28.190001</td>\n",
       "      <td>28.840000</td>\n",
       "      <td>31.910000</td>\n",
       "      <td>33.029999</td>\n",
       "      <td>32.000000</td>\n",
       "      <td>31.000000</td>\n",
       "      <td>34.029999</td>\n",
       "      <td>38.230000</td>\n",
       "    </tr>\n",
       "    <tr>\n",
       "      <th>2012-05-31</th>\n",
       "      <td>29.600000</td>\n",
       "      <td>28.190001</td>\n",
       "      <td>28.840000</td>\n",
       "      <td>31.910000</td>\n",
       "      <td>33.029999</td>\n",
       "      <td>32.000000</td>\n",
       "      <td>31.000000</td>\n",
       "      <td>34.029999</td>\n",
       "    </tr>\n",
       "    <tr>\n",
       "      <th>2012-06-01</th>\n",
       "      <td>27.719999</td>\n",
       "      <td>29.600000</td>\n",
       "      <td>28.190001</td>\n",
       "      <td>28.840000</td>\n",
       "      <td>31.910000</td>\n",
       "      <td>33.029999</td>\n",
       "      <td>32.000000</td>\n",
       "      <td>31.000000</td>\n",
       "    </tr>\n",
       "    <tr>\n",
       "      <th>2012-06-04</th>\n",
       "      <td>26.900000</td>\n",
       "      <td>27.719999</td>\n",
       "      <td>29.600000</td>\n",
       "      <td>28.190001</td>\n",
       "      <td>28.840000</td>\n",
       "      <td>31.910000</td>\n",
       "      <td>33.029999</td>\n",
       "      <td>32.000000</td>\n",
       "    </tr>\n",
       "    <tr>\n",
       "      <th>2012-06-05</th>\n",
       "      <td>25.870001</td>\n",
       "      <td>26.900000</td>\n",
       "      <td>27.719999</td>\n",
       "      <td>29.600000</td>\n",
       "      <td>28.190001</td>\n",
       "      <td>28.840000</td>\n",
       "      <td>31.910000</td>\n",
       "      <td>33.029999</td>\n",
       "    </tr>\n",
       "    <tr>\n",
       "      <th>...</th>\n",
       "      <td>...</td>\n",
       "      <td>...</td>\n",
       "      <td>...</td>\n",
       "      <td>...</td>\n",
       "      <td>...</td>\n",
       "      <td>...</td>\n",
       "      <td>...</td>\n",
       "      <td>...</td>\n",
       "    </tr>\n",
       "    <tr>\n",
       "      <th>2024-02-05</th>\n",
       "      <td>459.410004</td>\n",
       "      <td>474.989990</td>\n",
       "      <td>394.779999</td>\n",
       "      <td>390.140015</td>\n",
       "      <td>400.059998</td>\n",
       "      <td>401.019989</td>\n",
       "      <td>394.140015</td>\n",
       "      <td>393.179993</td>\n",
       "    </tr>\n",
       "    <tr>\n",
       "      <th>2024-02-06</th>\n",
       "      <td>454.720001</td>\n",
       "      <td>459.410004</td>\n",
       "      <td>474.989990</td>\n",
       "      <td>394.779999</td>\n",
       "      <td>390.140015</td>\n",
       "      <td>400.059998</td>\n",
       "      <td>401.019989</td>\n",
       "      <td>394.140015</td>\n",
       "    </tr>\n",
       "    <tr>\n",
       "      <th>2024-02-07</th>\n",
       "      <td>469.589996</td>\n",
       "      <td>454.720001</td>\n",
       "      <td>459.410004</td>\n",
       "      <td>474.989990</td>\n",
       "      <td>394.779999</td>\n",
       "      <td>390.140015</td>\n",
       "      <td>400.059998</td>\n",
       "      <td>401.019989</td>\n",
       "    </tr>\n",
       "    <tr>\n",
       "      <th>2024-02-08</th>\n",
       "      <td>470.000000</td>\n",
       "      <td>469.589996</td>\n",
       "      <td>454.720001</td>\n",
       "      <td>459.410004</td>\n",
       "      <td>474.989990</td>\n",
       "      <td>394.779999</td>\n",
       "      <td>390.140015</td>\n",
       "      <td>400.059998</td>\n",
       "    </tr>\n",
       "    <tr>\n",
       "      <th>2024-02-09</th>\n",
       "      <td>468.109985</td>\n",
       "      <td>470.000000</td>\n",
       "      <td>469.589996</td>\n",
       "      <td>454.720001</td>\n",
       "      <td>459.410004</td>\n",
       "      <td>474.989990</td>\n",
       "      <td>394.779999</td>\n",
       "      <td>390.140015</td>\n",
       "    </tr>\n",
       "  </tbody>\n",
       "</table>\n",
       "<p>2944 rows × 8 columns</p>\n",
       "</div>"
      ],
      "text/plain": [
       "                 Close  Close(t-1)  Close(t-2)  Close(t-3)  Close(t-4)   \n",
       "Date                                                                     \n",
       "2012-05-30   28.190001   28.840000   31.910000   33.029999   32.000000  \\\n",
       "2012-05-31   29.600000   28.190001   28.840000   31.910000   33.029999   \n",
       "2012-06-01   27.719999   29.600000   28.190001   28.840000   31.910000   \n",
       "2012-06-04   26.900000   27.719999   29.600000   28.190001   28.840000   \n",
       "2012-06-05   25.870001   26.900000   27.719999   29.600000   28.190001   \n",
       "...                ...         ...         ...         ...         ...   \n",
       "2024-02-05  459.410004  474.989990  394.779999  390.140015  400.059998   \n",
       "2024-02-06  454.720001  459.410004  474.989990  394.779999  390.140015   \n",
       "2024-02-07  469.589996  454.720001  459.410004  474.989990  394.779999   \n",
       "2024-02-08  470.000000  469.589996  454.720001  459.410004  474.989990   \n",
       "2024-02-09  468.109985  470.000000  469.589996  454.720001  459.410004   \n",
       "\n",
       "            Close(t-5)  Close(t-6)  Close(t-7)  \n",
       "Date                                            \n",
       "2012-05-30   31.000000   34.029999   38.230000  \n",
       "2012-05-31   32.000000   31.000000   34.029999  \n",
       "2012-06-01   33.029999   32.000000   31.000000  \n",
       "2012-06-04   31.910000   33.029999   32.000000  \n",
       "2012-06-05   28.840000   31.910000   33.029999  \n",
       "...                ...         ...         ...  \n",
       "2024-02-05  401.019989  394.140015  393.179993  \n",
       "2024-02-06  400.059998  401.019989  394.140015  \n",
       "2024-02-07  390.140015  400.059998  401.019989  \n",
       "2024-02-08  394.779999  390.140015  400.059998  \n",
       "2024-02-09  474.989990  394.779999  390.140015  \n",
       "\n",
       "[2944 rows x 8 columns]"
      ]
     },
     "execution_count": 10,
     "metadata": {},
     "output_type": "execute_result"
    }
   ],
   "source": [
    "from copy import deepcopy as dc\n",
    "\n",
    "def prepare_dataframe_for_lstm(df, n_steps):\n",
    "    df = dc(df)\n",
    "    \n",
    "    df.set_index('Date', inplace=True)\n",
    "    \n",
    "    for i in range(1, n_steps+1):\n",
    "        df[f'Close(t-{i})'] = df['Close'].shift(i)\n",
    "        \n",
    "    df.dropna(inplace=True)\n",
    "    \n",
    "    return df\n",
    "\n",
    "lookback = 7\n",
    "shifted_df = prepare_dataframe_for_lstm(data, lookback)\n",
    "shifted_df"
   ]
  },
  {
   "cell_type": "code",
   "execution_count": 11,
   "metadata": {},
   "outputs": [
    {
     "data": {
      "text/plain": [
       "array([[ 28.190001,  28.84    ,  31.91    , ...,  31.      ,  34.029999,\n",
       "         38.23    ],\n",
       "       [ 29.6     ,  28.190001,  28.84    , ...,  32.      ,  31.      ,\n",
       "         34.029999],\n",
       "       [ 27.719999,  29.6     ,  28.190001, ...,  33.029999,  32.      ,\n",
       "         31.      ],\n",
       "       ...,\n",
       "       [469.589996, 454.720001, 459.410004, ..., 390.140015, 400.059998,\n",
       "        401.019989],\n",
       "       [470.      , 469.589996, 454.720001, ..., 394.779999, 390.140015,\n",
       "        400.059998],\n",
       "       [468.109985, 470.      , 469.589996, ..., 474.98999 , 394.779999,\n",
       "        390.140015]])"
      ]
     },
     "execution_count": 11,
     "metadata": {},
     "output_type": "execute_result"
    }
   ],
   "source": [
    "shifted_df_as_np = shifted_df.to_numpy()\n",
    "shifted_df_as_np"
   ]
  },
  {
   "cell_type": "code",
   "execution_count": 12,
   "metadata": {},
   "outputs": [
    {
     "data": {
      "text/plain": [
       "(2944, 8)"
      ]
     },
     "execution_count": 12,
     "metadata": {},
     "output_type": "execute_result"
    }
   ],
   "source": [
    "shifted_df_as_np.shape"
   ]
  },
  {
   "cell_type": "code",
   "execution_count": 13,
   "metadata": {},
   "outputs": [
    {
     "data": {
      "text/plain": [
       "array([[-0.95424922, -0.9514062 , -0.93797839, ..., -0.94195862,\n",
       "        -0.91494691, -0.89303138],\n",
       "       [-0.94808205, -0.95424922, -0.9514062 , ..., -0.93758474,\n",
       "        -0.93075739, -0.91494691],\n",
       "       [-0.95630495, -0.94808205, -0.95424922, ..., -0.93307965,\n",
       "        -0.92553941, -0.93075739],\n",
       "       ...,\n",
       "       [ 0.97638108,  0.91134151,  0.93185502, ...,  0.62887645,\n",
       "         0.99499078,  1.        ],\n",
       "       [ 0.97817439,  0.97638108,  0.91134151, ...,  0.64917118,\n",
       "         0.9432285 ,  0.99499078],\n",
       "       [ 0.96990769,  0.97817439,  0.97638108, ...,  1.        ,\n",
       "         0.96743985,  0.9432285 ]])"
      ]
     },
     "execution_count": 13,
     "metadata": {},
     "output_type": "execute_result"
    }
   ],
   "source": [
    "from sklearn.preprocessing import MinMaxScaler\n",
    "\n",
    "scaler = MinMaxScaler(feature_range=(-1, 1))\n",
    "shifted_df_as_np = scaler.fit_transform(shifted_df_as_np)\n",
    "\n",
    "shifted_df_as_np"
   ]
  },
  {
   "cell_type": "code",
   "execution_count": 14,
   "metadata": {},
   "outputs": [
    {
     "data": {
      "text/plain": [
       "((2944, 7), (2944,))"
      ]
     },
     "execution_count": 14,
     "metadata": {},
     "output_type": "execute_result"
    }
   ],
   "source": [
    "X = shifted_df_as_np[:, 1:]\n",
    "y = shifted_df_as_np[:, 0]\n",
    "\n",
    "X.shape, y.shape"
   ]
  },
  {
   "cell_type": "code",
   "execution_count": 15,
   "metadata": {},
   "outputs": [
    {
     "data": {
      "text/plain": [
       "array([[-0.89303138, -0.91494691, -0.94195862, ..., -0.93307965,\n",
       "        -0.93797839, -0.9514062 ],\n",
       "       [-0.91494691, -0.93075739, -0.93758474, ..., -0.93797839,\n",
       "        -0.9514062 , -0.95424922],\n",
       "       [-0.93075739, -0.92553941, -0.93307965, ..., -0.9514062 ,\n",
       "        -0.95424922, -0.94808205],\n",
       "       ...,\n",
       "       [ 1.        ,  0.99499078,  0.62887645, ...,  1.        ,\n",
       "         0.93185502,  0.91134151],\n",
       "       [ 0.99499078,  0.9432285 ,  0.64917118, ...,  0.93185502,\n",
       "         0.91134151,  0.97638108],\n",
       "       [ 0.9432285 ,  0.96743985,  1.        , ...,  0.91134151,\n",
       "         0.97638108,  0.97817439]])"
      ]
     },
     "execution_count": 15,
     "metadata": {},
     "output_type": "execute_result"
    }
   ],
   "source": [
    "X = dc(np.flip(X, axis=1))\n",
    "X"
   ]
  },
  {
   "cell_type": "code",
   "execution_count": 16,
   "metadata": {},
   "outputs": [
    {
     "data": {
      "text/plain": [
       "2796"
      ]
     },
     "execution_count": 16,
     "metadata": {},
     "output_type": "execute_result"
    }
   ],
   "source": [
    "split_index = int(len(X) * 0.95)\n",
    "\n",
    "split_index"
   ]
  },
  {
   "cell_type": "code",
   "execution_count": 17,
   "metadata": {},
   "outputs": [
    {
     "data": {
      "text/plain": [
       "((2796, 7), (148, 7), (2796,), (148,))"
      ]
     },
     "execution_count": 17,
     "metadata": {},
     "output_type": "execute_result"
    }
   ],
   "source": [
    "X_train = X[:split_index]\n",
    "X_test = X[split_index:]\n",
    "\n",
    "y_train = y[:split_index]\n",
    "y_test = y[split_index:]\n",
    "\n",
    "X_train.shape, X_test.shape, y_train.shape, y_test.shape"
   ]
  },
  {
   "cell_type": "code",
   "execution_count": 18,
   "metadata": {},
   "outputs": [
    {
     "data": {
      "text/plain": [
       "((2796, 7, 1), (148, 7, 1), (2796, 1), (148, 1))"
      ]
     },
     "execution_count": 18,
     "metadata": {},
     "output_type": "execute_result"
    }
   ],
   "source": [
    "# LSTM require extra dimension\n",
    "X_train = X_train.reshape((-1, lookback, 1))\n",
    "X_test = X_test.reshape((-1, lookback, 1))\n",
    "\n",
    "y_train = y_train.reshape((-1, 1))\n",
    "y_test = y_test.reshape((-1, 1))\n",
    "\n",
    "X_train.shape, X_test.shape, y_train.shape, y_test.shape"
   ]
  },
  {
   "cell_type": "code",
   "execution_count": 19,
   "metadata": {},
   "outputs": [
    {
     "data": {
      "text/plain": [
       "(torch.Size([2796, 7, 1]),\n",
       " torch.Size([148, 7, 1]),\n",
       " torch.Size([2796, 1]),\n",
       " torch.Size([148, 1]))"
      ]
     },
     "execution_count": 19,
     "metadata": {},
     "output_type": "execute_result"
    }
   ],
   "source": [
    "X_train = torch.tensor(X_train).float()\n",
    "y_train = torch.tensor(y_train).float()\n",
    "X_test = torch.tensor(X_test).float()\n",
    "y_test = torch.tensor(y_test).float()\n",
    "\n",
    "X_train.shape, X_test.shape, y_train.shape, y_test.shape"
   ]
  },
  {
   "cell_type": "code",
   "execution_count": 20,
   "metadata": {},
   "outputs": [],
   "source": [
    "from torch.utils.data import Dataset\n",
    "\n",
    "class TimeSeriesDataset(Dataset):\n",
    "    def __init__(self, X, y):\n",
    "        self.X = X\n",
    "        self.y = y\n",
    "\n",
    "    def __len__(self):\n",
    "        return len(self.X)\n",
    "\n",
    "    def __getitem__(self, i):\n",
    "        return self.X[i], self.y[i]\n",
    "    \n",
    "train_dataset = TimeSeriesDataset(X_train, y_train)\n",
    "test_dataset = TimeSeriesDataset(X_test, y_test)"
   ]
  },
  {
   "cell_type": "code",
   "execution_count": 21,
   "metadata": {},
   "outputs": [],
   "source": [
    "from torch.utils.data import DataLoader\n",
    "\n",
    "batch_size = 16\n",
    "\n",
    "train_loader = DataLoader(train_dataset, batch_size=batch_size, shuffle=True)\n",
    "test_loader = DataLoader(test_dataset, batch_size=batch_size, shuffle=False)"
   ]
  },
  {
   "cell_type": "code",
   "execution_count": 22,
   "metadata": {},
   "outputs": [
    {
     "name": "stdout",
     "output_type": "stream",
     "text": [
      "torch.Size([16, 7, 1]) torch.Size([16, 1])\n"
     ]
    }
   ],
   "source": [
    "for _, batch in enumerate(train_loader):\n",
    "    x_batch, y_batch = batch[0].to(device), batch[1].to(device)\n",
    "    print(x_batch.shape, y_batch.shape)\n",
    "    break"
   ]
  },
  {
   "cell_type": "code",
   "execution_count": 23,
   "metadata": {},
   "outputs": [
    {
     "data": {
      "text/plain": [
       "LSTM(\n",
       "  (lstm): LSTM(1, 4, batch_first=True)\n",
       "  (fc): Linear(in_features=4, out_features=1, bias=True)\n",
       ")"
      ]
     },
     "execution_count": 23,
     "metadata": {},
     "output_type": "execute_result"
    }
   ],
   "source": [
    "class LSTM(nn.Module):\n",
    "    def __init__(self, input_size, hidden_size, num_stacked_layers):\n",
    "        super().__init__()\n",
    "        self.hidden_size = hidden_size\n",
    "        self.num_stacked_layers = num_stacked_layers\n",
    "\n",
    "        self.lstm = nn.LSTM(input_size, hidden_size, num_stacked_layers, \n",
    "                            batch_first=True)\n",
    "        \n",
    "        self.fc = nn.Linear(hidden_size, 1)\n",
    "\n",
    "    def forward(self, x):\n",
    "        batch_size = x.size(0)\n",
    "        h0 = torch.zeros(self.num_stacked_layers, batch_size, self.hidden_size).to(device)\n",
    "        c0 = torch.zeros(self.num_stacked_layers, batch_size, self.hidden_size).to(device)\n",
    "        \n",
    "        out, _ = self.lstm(x, (h0, c0))\n",
    "        out = self.fc(out[:, -1, :])\n",
    "        return out\n",
    "\n",
    "model = LSTM(1, 4, 1)\n",
    "model.to(device)\n",
    "model"
   ]
  },
  {
   "cell_type": "code",
   "execution_count": 24,
   "metadata": {},
   "outputs": [],
   "source": [
    "def train_one_epoch():\n",
    "    model.train(True)\n",
    "    print(f'Epoch: {epoch + 1}')\n",
    "    running_loss = 0.0\n",
    "    \n",
    "    for batch_index, batch in enumerate(train_loader):\n",
    "        x_batch, y_batch = batch[0].to(device), batch[1].to(device)\n",
    "        \n",
    "        output = model(x_batch)\n",
    "        loss = loss_function(output, y_batch)\n",
    "        running_loss += loss.item()\n",
    "        \n",
    "        optimizer.zero_grad()\n",
    "        loss.backward()\n",
    "        optimizer.step()\n",
    "\n",
    "        if batch_index % 100 == 99:  # print every 100 batches\n",
    "            avg_loss_across_batches = running_loss / 100\n",
    "            print('Batch {0}, Loss: {1:.3f}'.format(batch_index+1,\n",
    "                                                    avg_loss_across_batches))\n",
    "            running_loss = 0.0\n",
    "    return running_loss"
   ]
  },
  {
   "cell_type": "code",
   "execution_count": 25,
   "metadata": {},
   "outputs": [],
   "source": [
    "def validate_one_epoch():\n",
    "    model.train(False)\n",
    "    running_loss = 0.0\n",
    "    \n",
    "    for batch_index, batch in enumerate(test_loader):\n",
    "        x_batch, y_batch = batch[0].to(device), batch[1].to(device)\n",
    "        \n",
    "        with torch.no_grad():\n",
    "            output = model(x_batch)\n",
    "            loss = loss_function(output, y_batch)\n",
    "            running_loss += loss.item()\n",
    "\n",
    "    avg_loss_across_batches = running_loss / len(test_loader)\n",
    "    \n",
    "    print('Val Loss: {0:.3f}'.format(avg_loss_across_batches))\n",
    "    print('***************************************************')\n",
    "    print()\n",
    "    return running_loss / len(train_loader), model, loss_function"
   ]
  },
  {
   "cell_type": "code",
   "execution_count": 26,
   "metadata": {},
   "outputs": [
    {
     "name": "stdout",
     "output_type": "stream",
     "text": [
      "torch.Size([16, 7, 1]) torch.Size([16, 1])\n"
     ]
    }
   ],
   "source": [
    "for _, batch in enumerate(train_loader):\n",
    "    x_batch, y_batch = batch[0].to(device), batch[1].to(device)\n",
    "    print(x_batch.shape, y_batch.shape)\n",
    "    break"
   ]
  },
  {
   "cell_type": "code",
   "execution_count": 27,
   "metadata": {},
   "outputs": [
    {
     "data": {
      "image/png": "[encoded data removed]",
      "text/plain": [
       "<Figure size 640x480 with 1 Axes>"
      ]
     },
     "metadata": {},
     "output_type": "display_data"
    }
   ],
   "source": [
    "with torch.no_grad():\n",
    "    predicted = model(X_train.to(device)).to('cpu').numpy()\n",
    "\n",
    "plt.plot(y_train, label='Actual Close')\n",
    "plt.plot(predicted, label='Predicted Close')\n",
    "plt.xlabel('Day')\n",
    "plt.ylabel('Close')\n",
    "plt.legend()\n",
    "plt.show()"
   ]
  },
  {
   "cell_type": "code",
   "execution_count": 28,
   "metadata": {},
   "outputs": [
    {
     "data": {
      "text/plain": [
       "array([121.04946311, 121.00198522, 120.99905533, ..., 132.24513645,\n",
       "       132.25029443, 132.32857708])"
      ]
     },
     "execution_count": 28,
     "metadata": {},
     "output_type": "execute_result"
    }
   ],
   "source": [
    "train_predictions = predicted.flatten()\n",
    "\n",
    "dummies = np.zeros((X_train.shape[0], lookback+1))\n",
    "dummies[:, 0] = train_predictions\n",
    "dummies = scaler.inverse_transform(dummies)\n",
    "\n",
    "train_predictions = dc(dummies[:, 0])\n",
    "train_predictions"
   ]
  },
  {
   "cell_type": "code",
   "execution_count": 29,
   "metadata": {},
   "outputs": [
    {
     "data": {
      "text/plain": [
       "array([ 28.19000444,  29.60000526,  27.71999508, ..., 290.53000001,\n",
       "       294.10000659, 298.29000919])"
      ]
     },
     "execution_count": 29,
     "metadata": {},
     "output_type": "execute_result"
    }
   ],
   "source": [
    "dummies = np.zeros((X_train.shape[0], lookback+1))\n",
    "dummies[:, 0] = y_train.flatten()\n",
    "dummies = scaler.inverse_transform(dummies)\n",
    "\n",
    "new_y_train = dc(dummies[:, 0])\n",
    "new_y_train"
   ]
  },
  {
   "cell_type": "code",
   "execution_count": 30,
   "metadata": {},
   "outputs": [
    {
     "data": {
      "image/png": "[encoded data removed]",
      "text/plain": [
       "<Figure size 640x480 with 1 Axes>"
      ]
     },
     "metadata": {},
     "output_type": "display_data"
    }
   ],
   "source": [
    "plt.plot(new_y_train, label='Actual Close')\n",
    "plt.plot(train_predictions, label='Predicted Close')\n",
    "plt.xlabel('Day')\n",
    "plt.ylabel('Close')\n",
    "plt.legend()\n",
    "plt.show()\n"
   ]
  },
  {
   "cell_type": "code",
   "execution_count": 31,
   "metadata": {},
   "outputs": [
    {
     "data": {
      "text/plain": [
       "array([132.46055854, 132.75829019, 133.01736087, 133.07900446,\n",
       "       133.16058495, 133.24112294, 133.37135328, 133.1724953 ,\n",
       "       132.88202707, 132.65143086, 132.57320271, 132.60431409,\n",
       "       132.87932884, 133.30882391, 133.44145268, 133.6241281 ,\n",
       "       133.56719278, 133.51823631, 133.43786185, 133.4962553 ,\n",
       "       133.43625382, 133.25483211, 133.15477967, 133.0140903 ,\n",
       "       133.02559183, 132.94312556, 132.73379492, 132.42693291,\n",
       "       132.21382066, 132.21794977, 132.17009712, 132.27091951,\n",
       "       132.17674048, 132.10698177, 132.16799169, 132.35670405,\n",
       "       132.40606935, 132.4565589 , 132.4903685 , 132.59422299,\n",
       "       132.63912531, 132.65414952, 132.64176221, 132.8318782 ,\n",
       "       132.8229795 , 132.8925338 , 133.06269245, 132.9331503 ,\n",
       "       132.91242982, 132.94625305, 132.84875575, 132.72030378,\n",
       "       132.70585192, 132.7233427 , 132.70542947, 132.6683561 ,\n",
       "       132.76814281, 132.75389535, 132.88666039, 132.84064063,\n",
       "       132.91044703, 132.93595073, 133.16840708, 133.35996077,\n",
       "       133.55169842, 133.78614437, 133.86048189, 133.71594277,\n",
       "       133.76742713, 133.84314783, 133.74438318, 133.59944886,\n",
       "       133.41855863, 133.42343724, 133.40067265, 133.11470146,\n",
       "       132.71641997, 132.65528741, 132.73271835, 132.75181717,\n",
       "       132.97040763, 133.07467776, 133.23065028, 133.36094875,\n",
       "       133.49627574, 133.59617147, 133.67572829, 133.88410501,\n",
       "       134.01879833, 134.24730954, 134.31194435, 134.38448986,\n",
       "       134.44767335, 134.5883491 , 134.60652806, 134.712597  ,\n",
       "       134.70234238, 134.62960608, 134.67459697, 134.55773512,\n",
       "       134.38177119, 134.22843558, 134.02963893, 133.87748209,\n",
       "       133.76769968, 133.88131139, 134.07535208, 134.04401585,\n",
       "       134.21517611, 134.32985758, 134.37530499, 134.44403483,\n",
       "       134.67448114, 134.92757621, 135.07131131, 135.25395267,\n",
       "       135.35259467, 135.45078697, 135.57468738, 135.65247945,\n",
       "       135.60712743, 135.42220348, 135.26770954, 135.22760407,\n",
       "       135.29927062, 135.47589547, 135.55611322, 135.87988003,\n",
       "       136.07152911, 136.2991341 , 136.29646313, 136.3130545 ,\n",
       "       136.47999027, 136.73587895, 136.85081253, 136.99574003,\n",
       "       137.1956405 , 137.38359655, 137.52564185, 137.75007848,\n",
       "       137.86657239, 137.7405938 , 137.75582243, 139.32234086,\n",
       "       140.06171641, 140.46677072, 141.00560531, 141.37764723])"
      ]
     },
     "execution_count": 31,
     "metadata": {},
     "output_type": "execute_result"
    }
   ],
   "source": [
    "test_predictions = model(X_test.to(device)).detach().cpu().numpy().flatten()\n",
    "\n",
    "dummies = np.zeros((X_test.shape[0], lookback+1))\n",
    "dummies[:, 0] = test_predictions\n",
    "dummies = scaler.inverse_transform(dummies)\n",
    "\n",
    "test_predictions = dc(dummies[:, 0])\n",
    "test_predictions"
   ]
  },
  {
   "cell_type": "code",
   "execution_count": 32,
   "metadata": {},
   "outputs": [
    {
     "data": {
      "text/plain": [
       "array([309.3399953 , 313.41000516, 308.86999276, 310.61999745,\n",
       "       312.04998968, 316.01001271, 302.51998781, 294.26000941,\n",
       "       291.60998586, 294.47000098, 298.57000817, 311.70999262,\n",
       "       325.4800131 , 318.60000412, 322.70998998, 314.31000017,\n",
       "       313.19000426, 310.73001153, 316.56000134, 312.64001563,\n",
       "       305.20999077, 305.73998799, 301.64001486, 306.18999912,\n",
       "       301.95001118, 294.29001015, 285.089996  , 283.24999931,\n",
       "       289.89999465, 287.60000474, 294.23999074, 286.74999847,\n",
       "       285.50000047, 290.26001037, 297.98999155, 295.10000635,\n",
       "       295.89001454, 296.38000509, 300.14999389, 299.1700128 ,\n",
       "       298.67001292, 297.89001406, 307.55999668, 301.66000287,\n",
       "       305.06000069, 311.72000195, 300.30999672, 302.54998855,\n",
       "       305.07001002, 299.67001268, 295.73001171, 299.07998672,\n",
       "       300.82998801, 298.95999057, 297.73998991, 303.95998937,\n",
       "       300.20999197, 306.8200079 , 300.94000208, 305.57998857,\n",
       "       304.79000763, 315.42999609, 318.35998455, 321.83999571,\n",
       "       327.82000968, 324.16000088, 314.69000049, 321.14999227,\n",
       "       324.00000146, 316.9700024 , 312.80999713, 308.64999186,\n",
       "       314.01001319, 312.54998615, 299.52999786, 288.35000626,\n",
       "       296.73001147, 302.66000263, 301.26998981, 311.85000744,\n",
       "       310.86999228, 314.60000508, 315.79998708, 318.82000502,\n",
       "       319.78000152, 320.54999105, 328.76999003, 329.19000042,\n",
       "       336.3099949 , 332.7099944 , 334.18999922, 335.0400089 ,\n",
       "       339.9700037 , 336.98001375, 341.48999134, 338.23000834,\n",
       "       334.70001184, 338.98998853, 332.20000904, 327.14999083,\n",
       "       324.8200104 , 320.01998702, 318.29000781, 317.45001428,\n",
       "       326.58999287, 332.74999766, 325.27999679, 334.21999997,\n",
       "       334.73998785, 333.17001487, 334.92001274, 344.61999611,\n",
       "       350.3599837 , 349.27999785, 354.0899965 , 353.39001779,\n",
       "       354.82998528, 357.82998456, 358.32000577, 353.95999101,\n",
       "       346.29000791, 344.46999921, 347.1199921 , 351.95000941,\n",
       "       358.66000283, 357.42999284, 370.47000661, 369.67000952,\n",
       "       374.48998343, 367.45998437, 368.36999553, 376.1300013 ,\n",
       "       383.45000527, 381.77999347, 385.20000996, 390.70000523,\n",
       "       393.17998938, 394.14001313, 401.01998804, 400.05999154,\n",
       "       390.14001409, 394.77999717, 474.98999   , 459.41000423,\n",
       "       454.71999493, 469.58999266, 470.00000053, 468.10998783])"
      ]
     },
     "execution_count": 32,
     "metadata": {},
     "output_type": "execute_result"
    }
   ],
   "source": [
    "dummies = np.zeros((X_test.shape[0], lookback+1))\n",
    "dummies[:, 0] = y_test.flatten()\n",
    "dummies = scaler.inverse_transform(dummies)\n",
    "\n",
    "new_y_test = dc(dummies[:, 0])\n",
    "new_y_test"
   ]
  },
  {
   "cell_type": "code",
   "execution_count": 33,
   "metadata": {},
   "outputs": [
    {
     "data": {
      "image/png": "[encoded data removed]",
      "text/plain": [
       "<Figure size 640x480 with 1 Axes>"
      ]
     },
     "metadata": {},
     "output_type": "display_data"
    }
   ],
   "source": [
    "plt.plot(new_y_test, label='Actual Close')\n",
    "plt.plot(test_predictions, label='Predicted Close')\n",
    "plt.xlabel('Day')\n",
    "plt.ylabel('Close')\n",
    "plt.legend()\n",
    "plt.show()"
   ]
  },
  {
   "cell_type": "code",
   "execution_count": 34,
   "metadata": {},
   "outputs": [],
   "source": [
    "#Data\n",
    "#Time\n",
    "#Space\n",
    "#Integration with Flask\n",
    "#Report in Spread Sheet"
   ]
  },
  {
   "cell_type": "code",
   "execution_count": 35,
   "metadata": {},
   "outputs": [],
   "source": [
    "Months = [24, 60, 84]"
   ]
  },
  {
   "cell_type": "code",
   "execution_count": 36,
   "metadata": {},
   "outputs": [
    {
     "name": "stdout",
     "output_type": "stream",
     "text": [
      "####################\n",
      "For : 24\n",
      "Epoch: 1\n"
     ]
    },
    {
     "ename": "ZeroDivisionError",
     "evalue": "float division by zero",
     "output_type": "error",
     "traceback": [
      "\u001b[1;31m---------------------------------------------------------------------------\u001b[0m",
      "\u001b[1;31mZeroDivisionError\u001b[0m                         Traceback (most recent call last)",
      "Cell \u001b[1;32mIn[36], line 54\u001b[0m\n\u001b[0;32m     52\u001b[0m \u001b[38;5;28;01mfor\u001b[39;00m epoch \u001b[38;5;129;01min\u001b[39;00m \u001b[38;5;28mrange\u001b[39m(num_epochs):\n\u001b[0;32m     53\u001b[0m     train_one_epoch()\n\u001b[1;32m---> 54\u001b[0m     \u001b[43mvalidate_one_epoch\u001b[49m\u001b[43m(\u001b[49m\u001b[43m)\u001b[49m\n",
      "Cell \u001b[1;32mIn[25], line 13\u001b[0m, in \u001b[0;36mvalidate_one_epoch\u001b[1;34m()\u001b[0m\n\u001b[0;32m     10\u001b[0m         loss \u001b[38;5;241m=\u001b[39m loss_function(output, y_batch)\n\u001b[0;32m     11\u001b[0m         running_loss \u001b[38;5;241m+\u001b[39m\u001b[38;5;241m=\u001b[39m loss\u001b[38;5;241m.\u001b[39mitem()\n\u001b[1;32m---> 13\u001b[0m avg_loss_across_batches \u001b[38;5;241m=\u001b[39m \u001b[43mrunning_loss\u001b[49m\u001b[43m \u001b[49m\u001b[38;5;241;43m/\u001b[39;49m\u001b[43m \u001b[49m\u001b[38;5;28;43mlen\u001b[39;49m\u001b[43m(\u001b[49m\u001b[43mtest_loader\u001b[49m\u001b[43m)\u001b[49m\n\u001b[0;32m     15\u001b[0m \u001b[38;5;28mprint\u001b[39m(\u001b[38;5;124m'\u001b[39m\u001b[38;5;124mVal Loss: \u001b[39m\u001b[38;5;132;01m{0:.3f}\u001b[39;00m\u001b[38;5;124m'\u001b[39m\u001b[38;5;241m.\u001b[39mformat(avg_loss_across_batches))\n\u001b[0;32m     16\u001b[0m \u001b[38;5;28mprint\u001b[39m(\u001b[38;5;124m'\u001b[39m\u001b[38;5;124m***************************************************\u001b[39m\u001b[38;5;124m'\u001b[39m)\n",
      "\u001b[1;31mZeroDivisionError\u001b[0m: float division by zero"
     ]
    }
   ],
   "source": [
    "for months in Months:\n",
    "    print(\"#\"*20)\n",
    "    print(\"For :\", months)\n",
    "    days = 30 * months\n",
    "    tmp_df = dc(shifted_df[:days])\n",
    "\n",
    "    tmp_df_as_np = tmp_df.to_numpy()\n",
    "\n",
    "    tmp_df_as_np = scaler.fit_transform(tmp_df_as_np)\n",
    "\n",
    "    X_tmp = tmp_df_as_np[:, 1:]\n",
    "    y_tmp = tmp_df_as_np[:, 0]\n",
    "\n",
    "    X_tmp = dc(np.flip(X_tmp, axis=1))\n",
    "\n",
    "    split_index = int(len(X) * 0.80)\n",
    "\n",
    "    X_train_tmp = X_tmp[:split_index]\n",
    "    X_test_tmp = X_tmp[split_index:]\n",
    "\n",
    "    y_train_tmp = y[:split_index]\n",
    "    y_test_tmp = y[split_index:]\n",
    "    # LSTM require extra dimension\n",
    "    X_train_tmp = X_train_tmp.reshape((-1, lookback, 1))\n",
    "    X_test_tmp = X_test_tmp.reshape((-1, lookback, 1))\n",
    "\n",
    "    y_train_tmp = y_train_tmp.reshape((-1, 1))\n",
    "    y_test_tmp = y_test_tmp.reshape((-1, 1))\n",
    "\n",
    "    X_train_tmp = torch.tensor(X_train_tmp).float()\n",
    "    y_train_tmp = torch.tensor(y_train_tmp).float()\n",
    "    X_test_tmp = torch.tensor(X_test_tmp).float()\n",
    "    y_test_tmp = torch.tensor(y_test_tmp).float()\n",
    "\n",
    "    train_dataset = TimeSeriesDataset(X_train_tmp, y_train_tmp)\n",
    "    test_dataset = TimeSeriesDataset(X_test_tmp, y_test_tmp)\n",
    "    \n",
    "    batch_size = 16\n",
    "\n",
    "    train_loader = DataLoader(train_dataset, batch_size=batch_size, shuffle=True)\n",
    "    test_loader = DataLoader(test_dataset, batch_size=batch_size, shuffle=False)\n",
    "\n",
    "    for _, batch in enumerate(train_loader):\n",
    "        x_batch, y_batch = batch[0].to(device), batch[1].to(device)\n",
    "        break\n",
    "\n",
    "    learning_rate = 0.001\n",
    "    num_epochs = 10\n",
    "    loss_function = nn.MSELoss()\n",
    "    optimizer = torch.optim.Adam(model.parameters(), lr=learning_rate)\n",
    "\n",
    "    for epoch in range(num_epochs):\n",
    "        train_one_epoch()\n",
    "        validate_one_epoch()\n",
    "\n",
    "\n",
    "\n"
   ]
  },
  {
   "cell_type": "code",
   "execution_count": null,
   "metadata": {},
   "outputs": [],
   "source": [
    "for months in Months:\n",
    "    print(\"#\"*20)\n",
    "    print(\"For :\", months)\n",
    "    days = 30 * months\n",
    "    tmp_df = dc(shifted_df[:days])\n",
    "\n",
    "    tmp_df_as_np = tmp_df.to_numpy()\n",
    "\n",
    "    tmp_df_as_np = scaler.fit_transform(tmp_df_as_np)\n",
    "\n",
    "    X_tmp = tmp_df_as_np[:, 1:]\n",
    "    y_tmp = tmp_df_as_np[:, 0]\n",
    "\n",
    "    X_tmp = dc(np.flip(X_tmp, axis=1))\n",
    "\n",
    "    split_index = int(len(X) * 0.80)\n",
    "\n",
    "    X_train_tmp = X_tmp[:split_index]\n",
    "    X_test_tmp = X_tmp[split_index:]\n",
    "\n",
    "    y_train_tmp = y[:split_index]\n",
    "    y_test_tmp = y[split_index:]\n",
    "    # LSTM require extra dimension\n",
    "    X_train_tmp = X_train_tmp.reshape((-1, lookback, 1))\n",
    "    X_test_tmp = X_test_tmp.reshape((-1, lookback, 1))\n",
    "\n",
    "    y_train_tmp = y_train_tmp.reshape((-1, 1))\n",
    "    y_test_tmp = y_test_tmp.reshape((-1, 1))\n",
    "\n",
    "    X_train_tmp = torch.tensor(X_train_tmp).float()\n",
    "    y_train_tmp = torch.tensor(y_train_tmp).float()\n",
    "    X_test_tmp = torch.tensor(X_test_tmp).float()\n",
    "    y_test_tmp = torch.tensor(y_test_tmp).float()\n",
    "\n",
    "    train_dataset = TimeSeriesDataset(X_train_tmp, y_train_tmp)\n",
    "    test_dataset = TimeSeriesDataset(X_test_tmp, y_test_tmp)\n",
    "    \n",
    "    batch_size = 16\n",
    "\n",
    "    train_loader = DataLoader(train_dataset, batch_size=batch_size, shuffle=True)\n",
    "    test_loader = DataLoader(test_dataset, batch_size=batch_size, shuffle=False)\n",
    "\n",
    "    for _, batch in enumerate(train_loader):\n",
    "        x_batch, y_batch = batch[0].to(device), batch[1].to(device)\n",
    "        break\n",
    "\n",
    "    learning_rate = 0.001\n",
    "    num_epochs = 10\n",
    "    loss_function = nn.MSELoss()\n",
    "    optimizer = torch.optim.Adam(model.parameters(), lr=learning_rate)\n",
    "\n",
    "    for epoch in range(num_epochs):\n",
    "        train_one_epoch()\n",
    "        validate_one_epoch()"
   ]
  }
 ],
 "metadata": {
  "kernelspec": {
   "display_name": "Python 3",
   "language": "python",
   "name": "python3"
  },
  "language_info": {
   "codemirror_mode": {
    "name": "ipython",
    "version": 3
   },
   "file_extension": ".py",
   "mimetype": "text/x-python",
   "name": "python",
   "nbconvert_exporter": "python",
   "pygments_lexer": "ipython3",
   "version": "3.10.0"
  }
 },
 "nbformat": 4,
 "nbformat_minor": 2
}
