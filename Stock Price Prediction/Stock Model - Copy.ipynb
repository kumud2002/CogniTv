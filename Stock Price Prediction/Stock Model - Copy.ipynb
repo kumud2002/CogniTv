{
 "cells": [
  {
   "cell_type": "code",
   "execution_count": null,
   "metadata": {},
   "outputs": [
    {
     "data": {
      "text/html": [
       "<div>\n",
       "<style scoped>\n",
       "    .dataframe tbody tr th:only-of-type {\n",
       "        vertical-align: middle;\n",
       "    }\n",
       "\n",
       "    .dataframe tbody tr th {\n",
       "        vertical-align: top;\n",
       "    }\n",
       "\n",
       "    .dataframe thead th {\n",
       "        text-align: right;\n",
       "    }\n",
       "</style>\n",
       "<table border=\"1\" class=\"dataframe\">\n",
       "  <thead>\n",
       "    <tr style=\"text-align: right;\">\n",
       "      <th></th>\n",
       "      <th>Date</th>\n",
       "      <th>Open</th>\n",
       "      <th>High</th>\n",
       "      <th>Low</th>\n",
       "      <th>Close</th>\n",
       "      <th>Adj Close</th>\n",
       "      <th>Volume</th>\n",
       "    </tr>\n",
       "  </thead>\n",
       "  <tbody>\n",
       "    <tr>\n",
       "      <th>0</th>\n",
       "      <td>2012-05-18</td>\n",
       "      <td>42.049999</td>\n",
       "      <td>45.000000</td>\n",
       "      <td>38.000000</td>\n",
       "      <td>38.230000</td>\n",
       "      <td>38.230000</td>\n",
       "      <td>573576400</td>\n",
       "    </tr>\n",
       "    <tr>\n",
       "      <th>1</th>\n",
       "      <td>2012-05-21</td>\n",
       "      <td>36.529999</td>\n",
       "      <td>36.660000</td>\n",
       "      <td>33.000000</td>\n",
       "      <td>34.029999</td>\n",
       "      <td>34.029999</td>\n",
       "      <td>168192700</td>\n",
       "    </tr>\n",
       "    <tr>\n",
       "      <th>2</th>\n",
       "      <td>2012-05-22</td>\n",
       "      <td>32.610001</td>\n",
       "      <td>33.590000</td>\n",
       "      <td>30.940001</td>\n",
       "      <td>31.000000</td>\n",
       "      <td>31.000000</td>\n",
       "      <td>101786600</td>\n",
       "    </tr>\n",
       "    <tr>\n",
       "      <th>3</th>\n",
       "      <td>2012-05-23</td>\n",
       "      <td>31.370001</td>\n",
       "      <td>32.500000</td>\n",
       "      <td>31.360001</td>\n",
       "      <td>32.000000</td>\n",
       "      <td>32.000000</td>\n",
       "      <td>73600000</td>\n",
       "    </tr>\n",
       "    <tr>\n",
       "      <th>4</th>\n",
       "      <td>2012-05-24</td>\n",
       "      <td>32.950001</td>\n",
       "      <td>33.209999</td>\n",
       "      <td>31.770000</td>\n",
       "      <td>33.029999</td>\n",
       "      <td>33.029999</td>\n",
       "      <td>50237200</td>\n",
       "    </tr>\n",
       "    <tr>\n",
       "      <th>...</th>\n",
       "      <td>...</td>\n",
       "      <td>...</td>\n",
       "      <td>...</td>\n",
       "      <td>...</td>\n",
       "      <td>...</td>\n",
       "      <td>...</td>\n",
       "      <td>...</td>\n",
       "    </tr>\n",
       "    <tr>\n",
       "      <th>2946</th>\n",
       "      <td>2024-02-05</td>\n",
       "      <td>469.880005</td>\n",
       "      <td>471.899994</td>\n",
       "      <td>459.220001</td>\n",
       "      <td>459.410004</td>\n",
       "      <td>459.410004</td>\n",
       "      <td>40832400</td>\n",
       "    </tr>\n",
       "    <tr>\n",
       "      <th>2947</th>\n",
       "      <td>2024-02-06</td>\n",
       "      <td>464.000000</td>\n",
       "      <td>467.119995</td>\n",
       "      <td>453.000000</td>\n",
       "      <td>454.720001</td>\n",
       "      <td>454.720001</td>\n",
       "      <td>21655200</td>\n",
       "    </tr>\n",
       "    <tr>\n",
       "      <th>2948</th>\n",
       "      <td>2024-02-07</td>\n",
       "      <td>458.000000</td>\n",
       "      <td>471.519989</td>\n",
       "      <td>456.179993</td>\n",
       "      <td>469.589996</td>\n",
       "      <td>469.589996</td>\n",
       "      <td>23066000</td>\n",
       "    </tr>\n",
       "    <tr>\n",
       "      <th>2949</th>\n",
       "      <td>2024-02-08</td>\n",
       "      <td>468.320007</td>\n",
       "      <td>470.589996</td>\n",
       "      <td>465.029999</td>\n",
       "      <td>470.000000</td>\n",
       "      <td>470.000000</td>\n",
       "      <td>18815100</td>\n",
       "    </tr>\n",
       "    <tr>\n",
       "      <th>2950</th>\n",
       "      <td>2024-02-09</td>\n",
       "      <td>472.950012</td>\n",
       "      <td>473.589996</td>\n",
       "      <td>467.470001</td>\n",
       "      <td>468.109985</td>\n",
       "      <td>468.109985</td>\n",
       "      <td>18398400</td>\n",
       "    </tr>\n",
       "  </tbody>\n",
       "</table>\n",
       "<p>2951 rows × 7 columns</p>\n",
       "</div>"
      ],
      "text/plain": [
       "            Date        Open        High         Low       Close   Adj Close   \n",
       "0     2012-05-18   42.049999   45.000000   38.000000   38.230000   38.230000  \\\n",
       "1     2012-05-21   36.529999   36.660000   33.000000   34.029999   34.029999   \n",
       "2     2012-05-22   32.610001   33.590000   30.940001   31.000000   31.000000   \n",
       "3     2012-05-23   31.370001   32.500000   31.360001   32.000000   32.000000   \n",
       "4     2012-05-24   32.950001   33.209999   31.770000   33.029999   33.029999   \n",
       "...          ...         ...         ...         ...         ...         ...   \n",
       "2946  2024-02-05  469.880005  471.899994  459.220001  459.410004  459.410004   \n",
       "2947  2024-02-06  464.000000  467.119995  453.000000  454.720001  454.720001   \n",
       "2948  2024-02-07  458.000000  471.519989  456.179993  469.589996  469.589996   \n",
       "2949  2024-02-08  468.320007  470.589996  465.029999  470.000000  470.000000   \n",
       "2950  2024-02-09  472.950012  473.589996  467.470001  468.109985  468.109985   \n",
       "\n",
       "         Volume  \n",
       "0     573576400  \n",
       "1     168192700  \n",
       "2     101786600  \n",
       "3      73600000  \n",
       "4      50237200  \n",
       "...         ...  \n",
       "2946   40832400  \n",
       "2947   21655200  \n",
       "2948   23066000  \n",
       "2949   18815100  \n",
       "2950   18398400  \n",
       "\n",
       "[2951 rows x 7 columns]"
      ]
     },
     "execution_count": 33,
     "metadata": {},
     "output_type": "execute_result"
    }
   ],
   "source": [
    "import pandas as pd\n",
    "import numpy as np|\n",
    "import matplotlib.pyplot as plt\n",
    "\n",
    "import torch\n",
    "import torch.nn as nn\n",
    "\n",
    "data = pd.read_csv('META.csv')\n",
    "\n",
    "data"
   ]
  },
  {
   "cell_type": "code",
   "execution_count": 34,
   "metadata": {},
   "outputs": [
    {
     "data": {
      "text/html": [
       "<div>\n",
       "<style scoped>\n",
       "    .dataframe tbody tr th:only-of-type {\n",
       "        vertical-align: middle;\n",
       "    }\n",
       "\n",
       "    .dataframe tbody tr th {\n",
       "        vertical-align: top;\n",
       "    }\n",
       "\n",
       "    .dataframe thead th {\n",
       "        text-align: right;\n",
       "    }\n",
       "</style>\n",
       "<table border=\"1\" class=\"dataframe\">\n",
       "  <thead>\n",
       "    <tr style=\"text-align: right;\">\n",
       "      <th></th>\n",
       "      <th>Date</th>\n",
       "      <th>Close</th>\n",
       "    </tr>\n",
       "  </thead>\n",
       "  <tbody>\n",
       "    <tr>\n",
       "      <th>0</th>\n",
       "      <td>2012-05-18</td>\n",
       "      <td>38.230000</td>\n",
       "    </tr>\n",
       "    <tr>\n",
       "      <th>1</th>\n",
       "      <td>2012-05-21</td>\n",
       "      <td>34.029999</td>\n",
       "    </tr>\n",
       "    <tr>\n",
       "      <th>2</th>\n",
       "      <td>2012-05-22</td>\n",
       "      <td>31.000000</td>\n",
       "    </tr>\n",
       "    <tr>\n",
       "      <th>3</th>\n",
       "      <td>2012-05-23</td>\n",
       "      <td>32.000000</td>\n",
       "    </tr>\n",
       "    <tr>\n",
       "      <th>4</th>\n",
       "      <td>2012-05-24</td>\n",
       "      <td>33.029999</td>\n",
       "    </tr>\n",
       "    <tr>\n",
       "      <th>...</th>\n",
       "      <td>...</td>\n",
       "      <td>...</td>\n",
       "    </tr>\n",
       "    <tr>\n",
       "      <th>2946</th>\n",
       "      <td>2024-02-05</td>\n",
       "      <td>459.410004</td>\n",
       "    </tr>\n",
       "    <tr>\n",
       "      <th>2947</th>\n",
       "      <td>2024-02-06</td>\n",
       "      <td>454.720001</td>\n",
       "    </tr>\n",
       "    <tr>\n",
       "      <th>2948</th>\n",
       "      <td>2024-02-07</td>\n",
       "      <td>469.589996</td>\n",
       "    </tr>\n",
       "    <tr>\n",
       "      <th>2949</th>\n",
       "      <td>2024-02-08</td>\n",
       "      <td>470.000000</td>\n",
       "    </tr>\n",
       "    <tr>\n",
       "      <th>2950</th>\n",
       "      <td>2024-02-09</td>\n",
       "      <td>468.109985</td>\n",
       "    </tr>\n",
       "  </tbody>\n",
       "</table>\n",
       "<p>2951 rows × 2 columns</p>\n",
       "</div>"
      ],
      "text/plain": [
       "            Date       Close\n",
       "0     2012-05-18   38.230000\n",
       "1     2012-05-21   34.029999\n",
       "2     2012-05-22   31.000000\n",
       "3     2012-05-23   32.000000\n",
       "4     2012-05-24   33.029999\n",
       "...          ...         ...\n",
       "2946  2024-02-05  459.410004\n",
       "2947  2024-02-06  454.720001\n",
       "2948  2024-02-07  469.589996\n",
       "2949  2024-02-08  470.000000\n",
       "2950  2024-02-09  468.109985\n",
       "\n",
       "[2951 rows x 2 columns]"
      ]
     },
     "execution_count": 34,
     "metadata": {},
     "output_type": "execute_result"
    }
   ],
   "source": [
    "data = data[['Date', 'Close']]\n",
    "data"
   ]
  },
  {
   "cell_type": "code",
   "execution_count": 35,
   "metadata": {},
   "outputs": [
    {
     "data": {
      "text/plain": [
       "'cpu'"
      ]
     },
     "execution_count": 35,
     "metadata": {},
     "output_type": "execute_result"
    }
   ],
   "source": [
    "# Device agnostiv code\n",
    "device = 'cuda' if torch.cuda.is_available() else 'cpu'\n",
    "device"
   ]
  },
  {
   "cell_type": "code",
   "execution_count": 36,
   "metadata": {},
   "outputs": [
    {
     "name": "stderr",
     "output_type": "stream",
     "text": [
      "C:\\Users\\Kumud Jain\\AppData\\Local\\Temp\\ipykernel_3308\\469103719.py:1: SettingWithCopyWarning: \n",
      "A value is trying to be set on a copy of a slice from a DataFrame.\n",
      "Try using .loc[row_indexer,col_indexer] = value instead\n",
      "\n",
      "See the caveats in the documentation: https://pandas.pydata.org/pandas-docs/stable/user_guide/indexing.html#returning-a-view-versus-a-copy\n",
      "  data['Date'] = pd.to_datetime(data['Date'])\n"
     ]
    },
    {
     "data": {
      "text/plain": [
       "0      2012-05-18\n",
       "1      2012-05-21\n",
       "2      2012-05-22\n",
       "3      2012-05-23\n",
       "4      2012-05-24\n",
       "          ...    \n",
       "2946   2024-02-05\n",
       "2947   2024-02-06\n",
       "2948   2024-02-07\n",
       "2949   2024-02-08\n",
       "2950   2024-02-09\n",
       "Name: Date, Length: 2951, dtype: datetime64[ns]"
      ]
     },
     "execution_count": 36,
     "metadata": {},
     "output_type": "execute_result"
    }
   ],
   "source": [
    "data['Date'] = pd.to_datetime(data['Date'])\n",
    "data['Date']"
   ]
  },
  {
   "cell_type": "code",
   "execution_count": 37,
   "metadata": {},
   "outputs": [
    {
     "data": {
      "text/plain": [
       "[<matplotlib.lines.Line2D at 0x24c1f2b4fd0>]"
      ]
     },
     "execution_count": 37,
     "metadata": {},
     "output_type": "execute_result"
    },
    {
     "data": {
      "image/png": "[encoded data removed]",
      "text/plain": [
       "<Figure size 640x480 with 1 Axes>"
      ]
     },
     "metadata": {},
     "output_type": "display_data"
    }
   ],
   "source": [
    "plt.plot(data['Date'], data['Close'])"
   ]
  },
  {
   "cell_type": "code",
   "execution_count": 38,
   "metadata": {},
   "outputs": [
    {
     "data": {
      "text/html": [
       "<div>\n",
       "<style scoped>\n",
       "    .dataframe tbody tr th:only-of-type {\n",
       "        vertical-align: middle;\n",
       "    }\n",
       "\n",
       "    .dataframe tbody tr th {\n",
       "        vertical-align: top;\n",
       "    }\n",
       "\n",
       "    .dataframe thead th {\n",
       "        text-align: right;\n",
       "    }\n",
       "</style>\n",
       "<table border=\"1\" class=\"dataframe\">\n",
       "  <thead>\n",
       "    <tr style=\"text-align: right;\">\n",
       "      <th></th>\n",
       "      <th>Close</th>\n",
       "      <th>Close(t-1)</th>\n",
       "      <th>Close(t-2)</th>\n",
       "      <th>Close(t-3)</th>\n",
       "      <th>Close(t-4)</th>\n",
       "      <th>Close(t-5)</th>\n",
       "      <th>Close(t-6)</th>\n",
       "      <th>Close(t-7)</th>\n",
       "    </tr>\n",
       "    <tr>\n",
       "      <th>Date</th>\n",
       "      <th></th>\n",
       "      <th></th>\n",
       "      <th></th>\n",
       "      <th></th>\n",
       "      <th></th>\n",
       "      <th></th>\n",
       "      <th></th>\n",
       "      <th></th>\n",
       "    </tr>\n",
       "  </thead>\n",
       "  <tbody>\n",
       "    <tr>\n",
       "      <th>2012-05-30</th>\n",
       "      <td>28.190001</td>\n",
       "      <td>28.840000</td>\n",
       "      <td>31.910000</td>\n",
       "      <td>33.029999</td>\n",
       "      <td>32.000000</td>\n",
       "      <td>31.000000</td>\n",
       "      <td>34.029999</td>\n",
       "      <td>38.230000</td>\n",
       "    </tr>\n",
       "    <tr>\n",
       "      <th>2012-05-31</th>\n",
       "      <td>29.600000</td>\n",
       "      <td>28.190001</td>\n",
       "      <td>28.840000</td>\n",
       "      <td>31.910000</td>\n",
       "      <td>33.029999</td>\n",
       "      <td>32.000000</td>\n",
       "      <td>31.000000</td>\n",
       "      <td>34.029999</td>\n",
       "    </tr>\n",
       "    <tr>\n",
       "      <th>2012-06-01</th>\n",
       "      <td>27.719999</td>\n",
       "      <td>29.600000</td>\n",
       "      <td>28.190001</td>\n",
       "      <td>28.840000</td>\n",
       "      <td>31.910000</td>\n",
       "      <td>33.029999</td>\n",
       "      <td>32.000000</td>\n",
       "      <td>31.000000</td>\n",
       "    </tr>\n",
       "    <tr>\n",
       "      <th>2012-06-04</th>\n",
       "      <td>26.900000</td>\n",
       "      <td>27.719999</td>\n",
       "      <td>29.600000</td>\n",
       "      <td>28.190001</td>\n",
       "      <td>28.840000</td>\n",
       "      <td>31.910000</td>\n",
       "      <td>33.029999</td>\n",
       "      <td>32.000000</td>\n",
       "    </tr>\n",
       "    <tr>\n",
       "      <th>2012-06-05</th>\n",
       "      <td>25.870001</td>\n",
       "      <td>26.900000</td>\n",
       "      <td>27.719999</td>\n",
       "      <td>29.600000</td>\n",
       "      <td>28.190001</td>\n",
       "      <td>28.840000</td>\n",
       "      <td>31.910000</td>\n",
       "      <td>33.029999</td>\n",
       "    </tr>\n",
       "    <tr>\n",
       "      <th>...</th>\n",
       "      <td>...</td>\n",
       "      <td>...</td>\n",
       "      <td>...</td>\n",
       "      <td>...</td>\n",
       "      <td>...</td>\n",
       "      <td>...</td>\n",
       "      <td>...</td>\n",
       "      <td>...</td>\n",
       "    </tr>\n",
       "    <tr>\n",
       "      <th>2013-02-11</th>\n",
       "      <td>28.260000</td>\n",
       "      <td>28.549999</td>\n",
       "      <td>28.650000</td>\n",
       "      <td>29.049999</td>\n",
       "      <td>28.639999</td>\n",
       "      <td>28.110001</td>\n",
       "      <td>29.730000</td>\n",
       "      <td>30.980000</td>\n",
       "    </tr>\n",
       "    <tr>\n",
       "      <th>2013-02-12</th>\n",
       "      <td>27.370001</td>\n",
       "      <td>28.260000</td>\n",
       "      <td>28.549999</td>\n",
       "      <td>28.650000</td>\n",
       "      <td>29.049999</td>\n",
       "      <td>28.639999</td>\n",
       "      <td>28.110001</td>\n",
       "      <td>29.730000</td>\n",
       "    </tr>\n",
       "    <tr>\n",
       "      <th>2013-02-13</th>\n",
       "      <td>27.910000</td>\n",
       "      <td>27.370001</td>\n",
       "      <td>28.260000</td>\n",
       "      <td>28.549999</td>\n",
       "      <td>28.650000</td>\n",
       "      <td>29.049999</td>\n",
       "      <td>28.639999</td>\n",
       "      <td>28.110001</td>\n",
       "    </tr>\n",
       "    <tr>\n",
       "      <th>2013-02-14</th>\n",
       "      <td>28.500000</td>\n",
       "      <td>27.910000</td>\n",
       "      <td>27.370001</td>\n",
       "      <td>28.260000</td>\n",
       "      <td>28.549999</td>\n",
       "      <td>28.650000</td>\n",
       "      <td>29.049999</td>\n",
       "      <td>28.639999</td>\n",
       "    </tr>\n",
       "    <tr>\n",
       "      <th>2013-02-15</th>\n",
       "      <td>28.320000</td>\n",
       "      <td>28.500000</td>\n",
       "      <td>27.910000</td>\n",
       "      <td>27.370001</td>\n",
       "      <td>28.260000</td>\n",
       "      <td>28.549999</td>\n",
       "      <td>28.650000</td>\n",
       "      <td>29.049999</td>\n",
       "    </tr>\n",
       "  </tbody>\n",
       "</table>\n",
       "<p>180 rows × 8 columns</p>\n",
       "</div>"
      ],
      "text/plain": [
       "                Close  Close(t-1)  Close(t-2)  Close(t-3)  Close(t-4)   \n",
       "Date                                                                    \n",
       "2012-05-30  28.190001   28.840000   31.910000   33.029999   32.000000  \\\n",
       "2012-05-31  29.600000   28.190001   28.840000   31.910000   33.029999   \n",
       "2012-06-01  27.719999   29.600000   28.190001   28.840000   31.910000   \n",
       "2012-06-04  26.900000   27.719999   29.600000   28.190001   28.840000   \n",
       "2012-06-05  25.870001   26.900000   27.719999   29.600000   28.190001   \n",
       "...               ...         ...         ...         ...         ...   \n",
       "2013-02-11  28.260000   28.549999   28.650000   29.049999   28.639999   \n",
       "2013-02-12  27.370001   28.260000   28.549999   28.650000   29.049999   \n",
       "2013-02-13  27.910000   27.370001   28.260000   28.549999   28.650000   \n",
       "2013-02-14  28.500000   27.910000   27.370001   28.260000   28.549999   \n",
       "2013-02-15  28.320000   28.500000   27.910000   27.370001   28.260000   \n",
       "\n",
       "            Close(t-5)  Close(t-6)  Close(t-7)  \n",
       "Date                                            \n",
       "2012-05-30   31.000000   34.029999   38.230000  \n",
       "2012-05-31   32.000000   31.000000   34.029999  \n",
       "2012-06-01   33.029999   32.000000   31.000000  \n",
       "2012-06-04   31.910000   33.029999   32.000000  \n",
       "2012-06-05   28.840000   31.910000   33.029999  \n",
       "...                ...         ...         ...  \n",
       "2013-02-11   28.110001   29.730000   30.980000  \n",
       "2013-02-12   28.639999   28.110001   29.730000  \n",
       "2013-02-13   29.049999   28.639999   28.110001  \n",
       "2013-02-14   28.650000   29.049999   28.639999  \n",
       "2013-02-15   28.549999   28.650000   29.049999  \n",
       "\n",
       "[180 rows x 8 columns]"
      ]
     },
     "execution_count": 38,
     "metadata": {},
     "output_type": "execute_result"
    }
   ],
   "source": [
    "from copy import deepcopy as dc\n",
    "\n",
    "def prepare_dataframe_for_lstm(df, n_steps):\n",
    "    df = dc(df)\n",
    "    \n",
    "    df.set_index('Date', inplace=True)\n",
    "    \n",
    "    for i in range(1, n_steps+1):\n",
    "        df[f'Close(t-{i})'] = df['Close'].shift(i)\n",
    "        \n",
    "    df.dropna(inplace=True)\n",
    "    \n",
    "    return df\n",
    "\n",
    "lookback = 7\n",
    "shifted_df = prepare_dataframe_for_lstm(data, lookback)\n",
    "shifted_df = shifted_df[:180]\n",
    "shifted_df"
   ]
  },
  {
   "cell_type": "code",
   "execution_count": 39,
   "metadata": {},
   "outputs": [
    {
     "data": {
      "text/plain": [
       "array([[28.190001, 28.84    , 31.91    , ..., 31.      , 34.029999,\n",
       "        38.23    ],\n",
       "       [29.6     , 28.190001, 28.84    , ..., 32.      , 31.      ,\n",
       "        34.029999],\n",
       "       [27.719999, 29.6     , 28.190001, ..., 33.029999, 32.      ,\n",
       "        31.      ],\n",
       "       ...,\n",
       "       [27.91    , 27.370001, 28.26    , ..., 29.049999, 28.639999,\n",
       "        28.110001],\n",
       "       [28.5     , 27.91    , 27.370001, ..., 28.65    , 29.049999,\n",
       "        28.639999],\n",
       "       [28.32    , 28.5     , 27.91    , ..., 28.549999, 28.65    ,\n",
       "        29.049999]])"
      ]
     },
     "execution_count": 39,
     "metadata": {},
     "output_type": "execute_result"
    }
   ],
   "source": [
    "shifted_df_as_np = shifted_df.to_numpy()\n",
    "\n",
    "shifted_df_as_np"
   ]
  },
  {
   "cell_type": "code",
   "execution_count": 40,
   "metadata": {},
   "outputs": [
    {
     "data": {
      "text/plain": [
       "(180, 8)"
      ]
     },
     "execution_count": 40,
     "metadata": {},
     "output_type": "execute_result"
    }
   ],
   "source": [
    "shifted_df_as_np.shape"
   ]
  },
  {
   "cell_type": "code",
   "execution_count": 41,
   "metadata": {},
   "outputs": [
    {
     "data": {
      "text/plain": [
       "array([[0.36109335, 0.44567358, 0.84515314, ..., 0.72674063, 1.        ,\n",
       "        1.        ],\n",
       "       [0.54456754, 0.36109335, 0.44567358, ..., 0.85686426, 0.62822096,\n",
       "        0.5902438 ],\n",
       "       [0.29993498, 0.54456754, 0.36109335, ..., 0.99089148, 0.75092035,\n",
       "        0.29463415],\n",
       "       ...,\n",
       "       [0.3246586 , 0.25439197, 0.37020187, ..., 0.47299941, 0.33865027,\n",
       "        0.01268302],\n",
       "       [0.40143154, 0.3246586 , 0.25439197, ..., 0.42095009, 0.38895702,\n",
       "        0.06439015],\n",
       "       [0.37800929, 0.40143154, 0.3246586 , ..., 0.40793759, 0.33987738,\n",
       "        0.10439015]])"
      ]
     },
     "execution_count": 41,
     "metadata": {},
     "output_type": "execute_result"
    }
   ],
   "source": [
    "from sklearn.preprocessing import MinMaxScaler\n",
    "\n",
    "scaler = MinMaxScaler(feature_range=(-1, 1))\n",
    "shifted_df_as_np = scaler.fit_transform(shifted_df_as_np)\n",
    "\n",
    "shifted_df_as_np"
   ]
  },
  {
   "cell_type": "code",
   "execution_count": 42,
   "metadata": {},
   "outputs": [
    {
     "data": {
      "text/plain": [
       "((180, 7), (180,))"
      ]
     },
     "execution_count": 42,
     "metadata": {},
     "output_type": "execute_result"
    }
   ],
   "source": [
    "X = shifted_df_as_np[:, 1:]\n",
    "y = shifted_df_as_np[:, 0]\n",
    "\n",
    "X.shape, y.shape"
   ]
  },
  {
   "cell_type": "code",
   "execution_count": 43,
   "metadata": {},
   "outputs": [
    {
     "data": {
      "text/plain": [
       "array([[1.        , 1.        , 0.72674063, ..., 0.99089148, 0.84515314,\n",
       "        0.44567358],\n",
       "       [0.5902438 , 0.62822096, 0.85686426, ..., 0.84515314, 0.44567358,\n",
       "        0.36109335],\n",
       "       [0.29463415, 0.75092035, 0.99089148, ..., 0.44567358, 0.36109335,\n",
       "        0.54456754],\n",
       "       ...,\n",
       "       [0.01268302, 0.33865027, 0.47299941, ..., 0.40793759, 0.37020187,\n",
       "        0.25439197],\n",
       "       [0.06439015, 0.38895702, 0.42095009, ..., 0.37020187, 0.25439197,\n",
       "        0.3246586 ],\n",
       "       [0.10439015, 0.33987738, 0.40793759, ..., 0.25439197, 0.3246586 ,\n",
       "        0.40143154]])"
      ]
     },
     "execution_count": 43,
     "metadata": {},
     "output_type": "execute_result"
    }
   ],
   "source": [
    "X = dc(np.flip(X, axis=1))\n",
    "X"
   ]
  },
  {
   "cell_type": "code",
   "execution_count": 44,
   "metadata": {},
   "outputs": [
    {
     "data": {
      "text/plain": [
       "144"
      ]
     },
     "execution_count": 44,
     "metadata": {},
     "output_type": "execute_result"
    }
   ],
   "source": [
    "split_index = int(len(X) * 0.80)\n",
    "split_index"
   ]
  },
  {
   "cell_type": "code",
   "execution_count": 45,
   "metadata": {},
   "outputs": [
    {
     "data": {
      "text/plain": [
       "((144, 7), (36, 7), (144,), (36,))"
      ]
     },
     "execution_count": 45,
     "metadata": {},
     "output_type": "execute_result"
    }
   ],
   "source": [
    "X_train = X[:split_index]\n",
    "X_test = X[split_index:]\n",
    "\n",
    "y_train = y[:split_index]\n",
    "y_test = y[split_index:]\n",
    "\n",
    "X_train.shape, X_test.shape, y_train.shape, y_test.shape"
   ]
  },
  {
   "cell_type": "code",
   "execution_count": 46,
   "metadata": {},
   "outputs": [
    {
     "data": {
      "text/plain": [
       "((144, 7, 1), (36, 7, 1), (144, 1), (36, 1))"
      ]
     },
     "execution_count": 46,
     "metadata": {},
     "output_type": "execute_result"
    }
   ],
   "source": [
    "# LSTM require extra dimension\n",
    "X_train = X_train.reshape((-1, lookback, 1))\n",
    "X_test = X_test.reshape((-1, lookback, 1))\n",
    "\n",
    "y_train = y_train.reshape((-1, 1))\n",
    "y_test = y_test.reshape((-1, 1))\n",
    "\n",
    "X_train.shape, X_test.shape, y_train.shape, y_test.shape"
   ]
  },
  {
   "cell_type": "code",
   "execution_count": 47,
   "metadata": {},
   "outputs": [
    {
     "data": {
      "text/plain": [
       "(torch.Size([144, 7, 1]),\n",
       " torch.Size([36, 7, 1]),\n",
       " torch.Size([144, 1]),\n",
       " torch.Size([36, 1]))"
      ]
     },
     "execution_count": 47,
     "metadata": {},
     "output_type": "execute_result"
    }
   ],
   "source": [
    "X_train = torch.tensor(X_train).float()\n",
    "y_train = torch.tensor(y_train).float()\n",
    "X_test = torch.tensor(X_test).float()\n",
    "y_test = torch.tensor(y_test).float()\n",
    "\n",
    "X_train.shape, X_test.shape, y_train.shape, y_test.shape"
   ]
  },
  {
   "cell_type": "code",
   "execution_count": 48,
   "metadata": {},
   "outputs": [],
   "source": [
    "from torch.utils.data import Dataset\n",
    "\n",
    "class TimeSeriesDataset(Dataset):\n",
    "    def __init__(self, X, y):\n",
    "        self.X = X\n",
    "        self.y = y\n",
    "\n",
    "    def __len__(self):\n",
    "        return len(self.X)\n",
    "\n",
    "    def __getitem__(self, i):\n",
    "        return self.X[i], self.y[i]\n",
    "    \n",
    "train_dataset = TimeSeriesDataset(X_train, y_train)\n",
    "test_dataset = TimeSeriesDataset(X_test, y_test)"
   ]
  },
  {
   "cell_type": "code",
   "execution_count": 49,
   "metadata": {},
   "outputs": [],
   "source": [
    "from torch.utils.data import DataLoader\n",
    "\n",
    "batch_size = 16\n",
    "\n",
    "train_loader = DataLoader(train_dataset, batch_size=batch_size, shuffle=True)\n",
    "test_loader = DataLoader(test_dataset, batch_size=batch_size, shuffle=False)"
   ]
  },
  {
   "cell_type": "code",
   "execution_count": 50,
   "metadata": {},
   "outputs": [
    {
     "name": "stdout",
     "output_type": "stream",
     "text": [
      "torch.Size([16, 7, 1]) torch.Size([16, 1])\n"
     ]
    }
   ],
   "source": [
    "\n",
    "for _, batch in enumerate(train_loader):\n",
    "    x_batch, y_batch = batch[0].to(device), batch[1].to(device)\n",
    "    print(x_batch.shape, y_batch.shape)\n",
    "    break"
   ]
  },
  {
   "cell_type": "code",
   "execution_count": 51,
   "metadata": {},
   "outputs": [
    {
     "data": {
      "text/plain": [
       "LSTM(\n",
       "  (lstm): LSTM(1, 4, batch_first=True)\n",
       "  (fc): Linear(in_features=4, out_features=1, bias=True)\n",
       ")"
      ]
     },
     "execution_count": 51,
     "metadata": {},
     "output_type": "execute_result"
    }
   ],
   "source": [
    "class LSTM(nn.Module):\n",
    "    def __init__(self, input_size, hidden_size, num_stacked_layers):\n",
    "        super().__init__()\n",
    "        self.hidden_size = hidden_size\n",
    "        self.num_stacked_layers = num_stacked_layers\n",
    "\n",
    "        self.lstm = nn.LSTM(input_size, hidden_size, num_stacked_layers, \n",
    "                            batch_first=True)\n",
    "        \n",
    "        self.fc = nn.Linear(hidden_size, 1)\n",
    "\n",
    "    def forward(self, x):\n",
    "        batch_size = x.size(0)\n",
    "        h0 = torch.zeros(self.num_stacked_layers, batch_size, self.hidden_size).to(device)\n",
    "        c0 = torch.zeros(self.num_stacked_layers, batch_size, self.hidden_size).to(device)\n",
    "        \n",
    "        out, _ = self.lstm(x, (h0, c0))\n",
    "        out = self.fc(out[:, -1, :])\n",
    "        return out\n",
    "\n",
    "model = LSTM(1, 4, 1)\n",
    "model.to(device)\n",
    "model"
   ]
  },
  {
   "cell_type": "code",
   "execution_count": 69,
   "metadata": {},
   "outputs": [],
   "source": [
    "def train_one_epoch():\n",
    "    model.train(True)\n",
    "    running_loss = 0.0\n",
    "    \n",
    "    for batch_index, batch in enumerate(train_loader):\n",
    "        x_batch, y_batch = batch[0].to(device), batch[1].to(device)\n",
    "        \n",
    "        output = model(x_batch)\n",
    "        loss = loss_function(output, y_batch)\n",
    "        running_loss += loss.item()\n",
    "        \n",
    "        optimizer.zero_grad()\n",
    "        loss.backward()\n",
    "        optimizer.step()\n",
    "\n",
    "        if batch_index % 100 == 99:  # print every 100 batches\n",
    "            running_loss = 0.0\n",
    "    return running_loss / len(train_loader), model, loss_function"
   ]
  },
  {
   "cell_type": "code",
   "execution_count": 66,
   "metadata": {},
   "outputs": [],
   "source": [
    "def validate_one_epoch():\n",
    "    model.train(False)\n",
    "    running_loss = 0.0\n",
    "    \n",
    "    for batch_index, batch in enumerate(test_loader):\n",
    "        x_batch, y_batch = batch[0].to(device), batch[1].to(device)\n",
    "        \n",
    "        with torch.no_grad():\n",
    "            output = model(x_batch)\n",
    "            loss = loss_function(output, y_batch)\n",
    "            running_loss += loss.item()\n",
    "\n",
    "    avg_loss_across_batches = running_loss / len(test_loader)\n",
    "    \n",
    "    return running_loss/len(test_loader)"
   ]
  },
  {
   "cell_type": "code",
   "execution_count": 54,
   "metadata": {},
   "outputs": [],
   "source": [
    "def accuracy_fn(y_true, y_pred):\n",
    "  correct = torch.eq(y_true, y_pred).sum().item() \n",
    "  acc = (correct/len(y_pred)) * 100\n",
    "  return acc"
   ]
  },
  {
   "cell_type": "code",
   "execution_count": 55,
   "metadata": {},
   "outputs": [
    {
     "name": "stdout",
     "output_type": "stream",
     "text": [
      "Epoch: 1\n",
      "\n",
      "Val Loss: 0.265\n",
      "***************************************************\n",
      "\n",
      "Epoch: 2\n",
      "\n",
      "Val Loss: 0.261\n",
      "***************************************************\n",
      "\n",
      "Epoch: 3\n",
      "\n",
      "Val Loss: 0.250\n",
      "***************************************************\n",
      "\n",
      "Epoch: 4\n",
      "\n",
      "Val Loss: 0.239\n",
      "***************************************************\n",
      "\n",
      "Epoch: 5\n",
      "\n",
      "Val Loss: 0.226\n",
      "***************************************************\n",
      "\n",
      "Epoch: 6\n",
      "\n",
      "Val Loss: 0.210\n",
      "***************************************************\n",
      "\n",
      "Epoch: 7\n",
      "\n",
      "Val Loss: 0.194\n",
      "***************************************************\n",
      "\n",
      "Epoch: 8\n",
      "\n",
      "Val Loss: 0.177\n",
      "***************************************************\n",
      "\n",
      "Epoch: 9\n",
      "\n",
      "Val Loss: 0.159\n",
      "***************************************************\n",
      "\n",
      "Epoch: 10\n",
      "\n",
      "Val Loss: 0.140\n",
      "***************************************************\n",
      "\n"
     ]
    }
   ],
   "source": [
    "learning_rate = 0.001\n",
    "num_epochs = 10\n",
    "loss_function = nn.MSELoss()\n",
    "optimizer = torch.optim.Adam(model.parameters(), lr=learning_rate)\n",
    "\n",
    "for epoch in range(num_epochs):\n",
    "    train_one_epoch()\n",
    "    validate_one_epoch()"
   ]
  },
  {
   "cell_type": "code",
   "execution_count": 56,
   "metadata": {},
   "outputs": [
    {
     "data": {
      "image/png": "[encoded data removed]",
      "text/plain": [
       "<Figure size 640x480 with 1 Axes>"
      ]
     },
     "metadata": {},
     "output_type": "display_data"
    }
   ],
   "source": [
    "with torch.no_grad():\n",
    "    predicted = model(X_train.to(device)).to('cpu').numpy()\n",
    "\n",
    "plt.plot(y_train, label='Actual Close')\n",
    "plt.plot(predicted, label='Predicted Close')\n",
    "plt.xlabel('Day')\n",
    "plt.ylabel('Close')\n",
    "plt.legend()\n",
    "plt.show()"
   ]
  },
  {
   "cell_type": "code",
   "execution_count": 57,
   "metadata": {},
   "outputs": [
    {
     "data": {
      "text/plain": [
       "array([27.08605159, 26.6594904 , 26.66484857, 26.32464156, 25.94047975,\n",
       "       25.47266613, 25.35595027, 25.20482584, 25.26163805, 25.27206482,\n",
       "       25.37803858, 25.43382018, 25.6868564 , 26.18333149, 26.73483031,\n",
       "       27.10885046, 27.25586958, 27.37201672, 27.6046834 , 27.573958  ,\n",
       "       27.70343783, 27.64248173, 27.49381668, 27.38266734, 27.27197011,\n",
       "       27.2761419 , 27.3181528 , 27.37396829, 27.46808805, 27.41458416,\n",
       "       27.31618645, 27.24217617, 27.18690245, 26.73476069, 26.43527507,\n",
       "       26.44071283, 26.42227493, 26.3620913 , 26.3215079 , 26.24159149,\n",
       "       26.37902132, 25.9818371 , 25.09172143, 24.37979264, 23.65320337,\n",
       "       23.02144236, 22.47908043, 22.22089491, 22.20779205, 22.10569561,\n",
       "       22.01565215, 22.00778952, 22.11880992, 22.19527369, 22.08233813,\n",
       "       22.06457496, 21.94290051, 21.75152373, 21.68046967, 21.57773377,\n",
       "       21.51059751, 21.48059722, 21.45406721, 21.42762331, 21.42147933,\n",
       "       21.39846723, 21.38148551, 21.29971189, 21.19928233, 21.16766325,\n",
       "       21.19518039, 21.22496814, 21.23687682, 21.28569199, 21.47590713,\n",
       "       21.63981257, 21.88490395, 22.03826436, 22.1792681 , 22.49226848,\n",
       "       22.63742547, 22.74364034, 22.52989138, 22.27139162, 22.1311643 ,\n",
       "       22.00255296, 22.04238508, 22.15425106, 22.28043513, 22.3406171 ,\n",
       "       22.39484931, 22.2996073 , 22.1510854 , 22.0056206 , 21.84032356,\n",
       "       21.72106263, 21.62606385, 21.5562887 , 21.51538288, 21.52435676,\n",
       "       21.47157478, 21.41739296, 21.40422415, 21.42010789, 21.82408665,\n",
       "       22.15454056, 22.28054507, 22.25855719, 22.24386212, 22.23071941,\n",
       "       22.21507615, 22.15596788, 22.04186885, 21.90643239, 21.7400699 ,\n",
       "       21.68306779, 21.64698399, 21.88052534, 22.10161611, 22.45909703,\n",
       "       22.66289186, 22.8278449 , 23.14842437, 23.34206535, 23.80184162,\n",
       "       24.20062   , 24.49891306, 24.91026065, 25.33003501, 25.39113828,\n",
       "       25.50776696, 25.61919409, 25.53821414, 25.58350254, 25.67800033,\n",
       "       25.7623415 , 25.74208816, 25.85703752, 25.64434996, 25.49492377,\n",
       "       25.59159648, 25.59365065, 25.57835532, 25.34590787])"
      ]
     },
     "execution_count": 57,
     "metadata": {},
     "output_type": "execute_result"
    }
   ],
   "source": [
    "train_predictions = predicted.flatten()\n",
    "\n",
    "dummies = np.zeros((X_train.shape[0], lookback+1))\n",
    "dummies[:, 0] = train_predictions\n",
    "dummies = scaler.inverse_transform(dummies)\n",
    "\n",
    "train_predictions = dc(dummies[:, 0])\n",
    "train_predictions"
   ]
  },
  {
   "cell_type": "code",
   "execution_count": 58,
   "metadata": {},
   "outputs": [
    {
     "data": {
      "text/plain": [
       "array([28.19000097, 29.59999989, 27.71999905, 26.90000001, 25.87000101,\n",
       "       26.80999903, 26.30999899, 27.10000003, 27.00999996, 27.39999994,\n",
       "       27.26999998, 28.2900011 , 30.00999986, 31.41000021, 31.91000014,\n",
       "       31.60000005, 31.84000007, 33.0499992 , 32.06000112, 33.099998  ,\n",
       "       32.23000016, 31.36000095, 31.10000013, 30.77000016, 31.20000094,\n",
       "       31.46999895, 31.72999978, 32.16999821, 31.46999895, 30.96999903,\n",
       "       30.80999901, 30.71999906, 28.24999995, 28.08999994, 29.11000105,\n",
       "       29.00000007, 28.76000005, 28.7500001 , 28.45000111, 29.33999998,\n",
       "       26.84999995, 23.709999  , 23.1500001 , 21.70999907, 20.87999917,\n",
       "       20.04000116, 21.08999982, 21.91999994, 20.71999916, 20.71999916,\n",
       "       21.00999981, 21.80999896, 21.59999992, 20.37999879, 21.20000103,\n",
       "       19.87000121, 19.04999896, 20.00999996, 19.16000017, 19.44000088,\n",
       "       19.44000088, 19.41000014, 19.14999977, 19.34000008, 19.10000006,\n",
       "       19.09000011, 18.05999905, 17.73      , 18.57999978, 18.95999901,\n",
       "       18.97999982, 18.80999894, 19.43000003, 20.92999981, 20.70999921,\n",
       "       21.99999995, 21.52000014, 21.87000091, 23.29000092, 22.59000006,\n",
       "       22.86000105, 20.79000105, 20.28000118, 20.6200011 , 20.32000004,\n",
       "       21.66000004, 21.99000001, 22.27000003, 21.82999999, 21.95000092,\n",
       "       20.90999992, 20.40000005, 20.23000009, 19.63999884, 19.75000005,\n",
       "       19.51999998, 19.51999998, 19.4800002 , 19.87999886, 18.97999982,\n",
       "       19.00000016, 19.32000019, 19.50000009, 23.23000011, 22.55999908,\n",
       "       21.94000098, 21.11000108, 21.20999914, 21.18000023, 21.24999983,\n",
       "       21.16999982, 20.46999919, 19.99000007, 19.20999898, 20.07000008,\n",
       "       19.8600008 , 22.3600009 , 22.16999991, 23.55999905, 22.92000003,\n",
       "       23.09999993, 24.32000003, 24.        , 25.94000102, 26.15000001,\n",
       "       26.360001  , 27.32000004, 27.99999999, 27.04000105, 27.45999891,\n",
       "       27.7099991 , 26.96999904, 27.48999989, 27.83999997, 27.9800001 ,\n",
       "       27.58000007, 28.24000001, 26.80999903, 26.75000005, 27.7099991 ,\n",
       "       27.41000011, 27.36000108, 26.26000001, 26.92999995])"
      ]
     },
     "execution_count": 58,
     "metadata": {},
     "output_type": "execute_result"
    }
   ],
   "source": [
    "dummies = np.zeros((X_train.shape[0], lookback+1))\n",
    "dummies[:, 0] = y_train.flatten()\n",
    "dummies = scaler.inverse_transform(dummies)\n",
    "\n",
    "new_y_train = dc(dummies[:, 0])\n",
    "new_y_train"
   ]
  },
  {
   "cell_type": "code",
   "execution_count": 59,
   "metadata": {},
   "outputs": [
    {
     "data": {
      "image/png": "[encoded data removed]",
      "text/plain": [
       "<Figure size 640x480 with 1 Axes>"
      ]
     },
     "metadata": {},
     "output_type": "display_data"
    }
   ],
   "source": [
    "plt.plot(new_y_train, label='Actual Close')\n",
    "plt.plot(train_predictions, label='Predicted Close')\n",
    "plt.xlabel('Day')\n",
    "plt.ylabel('Close')\n",
    "plt.legend()\n",
    "plt.show()\n"
   ]
  },
  {
   "cell_type": "code",
   "execution_count": 60,
   "metadata": {},
   "outputs": [
    {
     "data": {
      "text/plain": [
       "array([25.32289125, 25.24277407, 25.08900318, 24.94472441, 24.99822355,\n",
       "       25.32890108, 25.51281368, 25.82043863, 26.1528535 , 26.28943889,\n",
       "       26.65228211, 26.97139579, 27.20103399, 27.20146411, 27.0657645 ,\n",
       "       26.95084703, 26.93698528, 26.83896982, 26.96255291, 27.04049885,\n",
       "       27.1274433 , 27.25006457, 27.45330686, 27.30328606, 27.30394773,\n",
       "       27.26038172, 27.03482885, 26.6227006 , 26.47009611, 26.44846587,\n",
       "       26.36202798, 26.28288277, 26.17847787, 25.94753636, 25.91828735,\n",
       "       26.01469364])"
      ]
     },
     "execution_count": 60,
     "metadata": {},
     "output_type": "execute_result"
    }
   ],
   "source": [
    "test_predictions = model(X_test.to(device)).detach().cpu().numpy().flatten()\n",
    "\n",
    "dummies = np.zeros((X_test.shape[0], lookback+1))\n",
    "dummies[:, 0] = test_predictions\n",
    "dummies = scaler.inverse_transform(dummies)\n",
    "\n",
    "test_predictions = dc(dummies[:, 0])\n",
    "test_predictions"
   ]
  },
  {
   "cell_type": "code",
   "execution_count": 61,
   "metadata": {},
   "outputs": [
    {
     "data": {
      "text/plain": [
       "array([26.51000003, 26.04999902, 25.90999999, 26.62000102, 27.99999999,\n",
       "       27.76999991, 28.76000005, 29.41999999, 29.05999904, 30.5899998 ,\n",
       "       31.299999  , 31.71999892, 30.95000097, 30.09999981, 29.84999985,\n",
       "       30.13999913, 29.66000001, 30.72999992, 30.81999987, 31.07999978,\n",
       "       31.54000085, 32.4700011 , 30.79000096, 31.23999979, 30.97999989,\n",
       "       29.73000007, 28.11000097, 28.63999889, 29.0499991 , 28.64999998,\n",
       "       28.54999894, 28.25999989, 27.37000102, 27.91000004, 28.49999991,\n",
       "       28.32000001])"
      ]
     },
     "execution_count": 61,
     "metadata": {},
     "output_type": "execute_result"
    }
   ],
   "source": [
    "dummies = np.zeros((X_test.shape[0], lookback+1))\n",
    "dummies[:, 0] = y_test.flatten()\n",
    "dummies = scaler.inverse_transform(dummies)\n",
    "\n",
    "new_y_test = dc(dummies[:, 0])\n",
    "new_y_test"
   ]
  },
  {
   "cell_type": "code",
   "execution_count": 62,
   "metadata": {},
   "outputs": [
    {
     "data": {
      "image/png": "[encoded data removed]",
      "text/plain": [
       "<Figure size 640x480 with 1 Axes>"
      ]
     },
     "metadata": {},
     "output_type": "display_data"
    }
   ],
   "source": [
    "plt.plot(new_y_test, label='Actual Close')\n",
    "plt.plot(test_predictions, label='Predicted Close')\n",
    "plt.xlabel('Day')\n",
    "plt.ylabel('Close')\n",
    "plt.legend()\n",
    "plt.show()"
   ]
  },
  {
   "cell_type": "code",
   "execution_count": 63,
   "metadata": {},
   "outputs": [],
   "source": [
    "#Data\n",
    "#Time\n",
    "#Space\n",
    "#Integration with Flask\n",
    "#Report in Spread Sheet"
   ]
  },
  {
   "cell_type": "markdown",
   "metadata": {},
   "source": [
    "# Evaluating under different condition."
   ]
  },
  {
   "cell_type": "markdown",
   "metadata": {},
   "source": [
    "# - Using : 6 Months Of Data"
   ]
  },
  {
   "cell_type": "code",
   "execution_count": 71,
   "metadata": {},
   "outputs": [
    {
     "ename": "ValueError",
     "evalue": "too many values to unpack (expected 2)",
     "output_type": "error",
     "traceback": [
      "\u001b[1;31m---------------------------------------------------------------------------\u001b[0m",
      "\u001b[1;31mValueError\u001b[0m                                Traceback (most recent call last)",
      "Cell \u001b[1;32mIn[71], line 6\u001b[0m\n\u001b[0;32m      1\u001b[0m evaluation_periods \u001b[38;5;241m=\u001b[39m [\u001b[38;5;241m6\u001b[39m, \u001b[38;5;241m12\u001b[39m, \u001b[38;5;241m24\u001b[39m, \u001b[38;5;241m60\u001b[39m, \u001b[38;5;241m84\u001b[39m]  \u001b[38;5;66;03m# in months\u001b[39;00m\n\u001b[0;32m      2\u001b[0m \u001b[38;5;28;01mfor\u001b[39;00m period \u001b[38;5;129;01min\u001b[39;00m evaluation_periods:\n\u001b[0;32m      3\u001b[0m     \u001b[38;5;66;03m# Get the corresponding DataLoader objects for training and testing data for this period\u001b[39;00m\n\u001b[0;32m      4\u001b[0m     \n\u001b[0;32m      5\u001b[0m     \u001b[38;5;66;03m# Train the model\u001b[39;00m\n\u001b[1;32m----> 6\u001b[0m     train_loss, train_time \u001b[38;5;241m=\u001b[39m train_one_epoch()\n\u001b[0;32m      8\u001b[0m     \u001b[38;5;66;03m# Validate the model\u001b[39;00m\n\u001b[0;32m      9\u001b[0m     val_loss \u001b[38;5;241m=\u001b[39m validate_one_epoch()\n",
      "\u001b[1;31mValueError\u001b[0m: too many values to unpack (expected 2)"
     ]
    }
   ],
   "source": [
    "evaluation_periods = [6, 12, 24, 60, 84]  # in months\n",
    "for period in evaluation_periods:\n",
    "    # Get the corresponding DataLoader objects for training and testing data for this period\n",
    "    \n",
    "    # Train the model\n",
    "    train_loss, train_time = train_one_epoch()\n",
    "    \n",
    "    # Validate the model\n",
    "    val_loss = validate_one_epoch()\n",
    "    \n",
    "    # Record evaluation metrics\n",
    "    print(f\"Evaluation Period: {period} months\")\n",
    "    print(f\"Training Loss: {train_loss}, Validation Loss: {val_loss}\")\n",
    "    print(f\"Training Time: {train_time} seconds\")\n",
    "    print(\"***************************************************\")\n"
   ]
  },
  {
   "cell_type": "code",
   "execution_count": null,
   "metadata": {},
   "outputs": [],
   "source": [
    "shifted_df = shifted_df[:180]"
   ]
  }
 ],
 "metadata": {
  "kernelspec": {
   "display_name": "Python 3",
   "language": "python",
   "name": "python3"
  },
  "language_info": {
   "codemirror_mode": {
    "name": "ipython",
    "version": 3
   },
   "file_extension": ".py",
   "mimetype": "text/x-python",
   "name": "python",
   "nbconvert_exporter": "python",
   "pygments_lexer": "ipython3",
   "version": "3.10.0"
  }
 },
 "nbformat": 4,
 "nbformat_minor": 2
}
