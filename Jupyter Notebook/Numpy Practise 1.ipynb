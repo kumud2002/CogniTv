{
 "cells": [
  {
   "cell_type": "markdown",
   "id": "3d9b8e13",
   "metadata": {},
   "source": [
    "# Numpy Practise for CogniTv"
   ]
  },
  {
   "cell_type": "code",
   "execution_count": 1,
   "id": "224032bb",
   "metadata": {},
   "outputs": [],
   "source": [
    "import numpy as np"
   ]
  },
  {
   "cell_type": "markdown",
   "id": "0965e613",
   "metadata": {},
   "source": [
    "## 1. Multiplication of Matrix Using Numpy"
   ]
  },
  {
   "cell_type": "code",
   "execution_count": 3,
   "id": "e5a17fa5",
   "metadata": {},
   "outputs": [],
   "source": [
    "a = np.array([[1,2,3],[4,5,6],[7,8,9]])\n",
    "b = np.array([[3,2,1],[6,5,4],[9,8,7]])"
   ]
  },
  {
   "cell_type": "code",
   "execution_count": 17,
   "id": "0505218a",
   "metadata": {},
   "outputs": [
    {
     "name": "stdout",
     "output_type": "stream",
     "text": [
      "A - \n",
      "[[1 2 3]\n",
      " [4 5 6]\n",
      " [7 8 9]]\n",
      "B - \n",
      "[[3 2 1]\n",
      " [6 5 4]\n",
      " [9 8 7]]\n"
     ]
    }
   ],
   "source": [
    "print(\"A - \")\n",
    "print(a)\n",
    "print(\"B - \")\n",
    "print(b)"
   ]
  },
  {
   "cell_type": "code",
   "execution_count": 8,
   "id": "45f7ce21",
   "metadata": {},
   "outputs": [
    {
     "name": "stdout",
     "output_type": "stream",
     "text": [
      "(3, 3)\n",
      "(3, 3)\n"
     ]
    }
   ],
   "source": [
    "print(a.shape)\n",
    "print(a.shape)"
   ]
  },
  {
   "cell_type": "code",
   "execution_count": 13,
   "id": "362ba3c9",
   "metadata": {},
   "outputs": [
    {
     "data": {
      "text/plain": [
       "array([[ 3,  4,  3],\n",
       "       [24, 25, 24],\n",
       "       [63, 64, 63]])"
      ]
     },
     "execution_count": 13,
     "metadata": {},
     "output_type": "execute_result"
    }
   ],
   "source": [
    "a*b # Give elemnt wise Multiplication"
   ]
  },
  {
   "cell_type": "code",
   "execution_count": 11,
   "id": "ef11357b",
   "metadata": {},
   "outputs": [
    {
     "data": {
      "text/plain": [
       "array([[ 42,  36,  30],\n",
       "       [ 96,  81,  66],\n",
       "       [150, 126, 102]])"
      ]
     },
     "execution_count": 11,
     "metadata": {},
     "output_type": "execute_result"
    }
   ],
   "source": [
    "a.dot(b) # Give matrix Multiplication"
   ]
  },
  {
   "cell_type": "code",
   "execution_count": 14,
   "id": "df52a7d6",
   "metadata": {},
   "outputs": [
    {
     "data": {
      "text/plain": [
       "array([[ 42,  36,  30],\n",
       "       [ 96,  81,  66],\n",
       "       [150, 126, 102]])"
      ]
     },
     "execution_count": 14,
     "metadata": {},
     "output_type": "execute_result"
    }
   ],
   "source": [
    "np.matmul(a,b) # Give matrix multiplication using built-in function of Numpy"
   ]
  },
  {
   "cell_type": "markdown",
   "id": "4c4d57c5",
   "metadata": {},
   "source": [
    "## 2. Create programme to change a string element in a specified Numpy array to Uppercase, lowercase, capitalize the first letter, title case and swap case."
   ]
  },
  {
   "cell_type": "code",
   "execution_count": 20,
   "id": "789a3933",
   "metadata": {},
   "outputs": [],
   "source": [
    "my_arr = np.array([\"I\",\"love\",\"kishangarh\"])"
   ]
  },
  {
   "cell_type": "code",
   "execution_count": 21,
   "id": "60056434",
   "metadata": {},
   "outputs": [
    {
     "data": {
      "text/plain": [
       "numpy.ndarray"
      ]
     },
     "execution_count": 21,
     "metadata": {},
     "output_type": "execute_result"
    }
   ],
   "source": [
    "type(my_arr)"
   ]
  },
  {
   "cell_type": "code",
   "execution_count": 22,
   "id": "d9e42115",
   "metadata": {},
   "outputs": [
    {
     "data": {
      "text/plain": [
       "(3,)"
      ]
     },
     "execution_count": 22,
     "metadata": {},
     "output_type": "execute_result"
    }
   ],
   "source": [
    "my_arr.shape"
   ]
  },
  {
   "cell_type": "code",
   "execution_count": 23,
   "id": "7075fb40",
   "metadata": {},
   "outputs": [],
   "source": [
    "upper_arr = np.char.upper(my_arr)"
   ]
  },
  {
   "cell_type": "code",
   "execution_count": 26,
   "id": "d949e1bd",
   "metadata": {},
   "outputs": [
    {
     "name": "stdout",
     "output_type": "stream",
     "text": [
      "['I' 'LOVE' 'KISHANGARH']\n"
     ]
    }
   ],
   "source": [
    "print(upper_arr)"
   ]
  },
  {
   "cell_type": "code",
   "execution_count": 27,
   "id": "6b7fadb6",
   "metadata": {},
   "outputs": [],
   "source": [
    "lower_arr = np.char.lower(my_arr)"
   ]
  },
  {
   "cell_type": "code",
   "execution_count": 28,
   "id": "8cd20c15",
   "metadata": {},
   "outputs": [
    {
     "name": "stdout",
     "output_type": "stream",
     "text": [
      "['i' 'love' 'kishangarh']\n"
     ]
    }
   ],
   "source": [
    "print(lower_arr)"
   ]
  },
  {
   "cell_type": "code",
   "execution_count": 31,
   "id": "a83d401a",
   "metadata": {},
   "outputs": [
    {
     "name": "stdout",
     "output_type": "stream",
     "text": [
      "['I' 'Love' 'Kishangarh']\n"
     ]
    }
   ],
   "source": [
    "capitalize_arr = np.char.capitalize(my_arr)\n",
    "print(capitalize_arr)"
   ]
  },
  {
   "cell_type": "code",
   "execution_count": 32,
   "id": "8ec23d09",
   "metadata": {},
   "outputs": [
    {
     "name": "stdout",
     "output_type": "stream",
     "text": [
      "['I' 'Love' 'Kishangarh']\n"
     ]
    }
   ],
   "source": [
    "title_arr = np.char.title(my_arr)\n",
    "print(title_arr)"
   ]
  },
  {
   "cell_type": "code",
   "execution_count": 33,
   "id": "807c8ff0",
   "metadata": {},
   "outputs": [
    {
     "name": "stdout",
     "output_type": "stream",
     "text": [
      "['i' 'LOVE' 'KISHANGARH']\n"
     ]
    }
   ],
   "source": [
    "swap_arr = np.char.swapcase(my_arr)\n",
    "print(swap_arr)"
   ]
  },
  {
   "cell_type": "code",
   "execution_count": 37,
   "id": "9808776b",
   "metadata": {},
   "outputs": [
    {
     "data": {
      "text/plain": [
       "array(['Hello to the world'], dtype='<U18')"
      ]
     },
     "execution_count": 37,
     "metadata": {},
     "output_type": "execute_result"
    }
   ],
   "source": [
    "np.char.capitalize([\"hello to the world\"])"
   ]
  },
  {
   "cell_type": "code",
   "execution_count": 38,
   "id": "96d8e112",
   "metadata": {},
   "outputs": [
    {
     "data": {
      "text/plain": [
       "array(['Hello To The World'], dtype='<U18')"
      ]
     },
     "execution_count": 38,
     "metadata": {},
     "output_type": "execute_result"
    }
   ],
   "source": [
    "np.char.title([\"hello to the world\"])"
   ]
  },
  {
   "cell_type": "markdown",
   "id": "15e9aade",
   "metadata": {},
   "source": [
    "## 3. How to find a generate a row number of a Numpy Array if any element is larger value than a specified value"
   ]
  },
  {
   "cell_type": "code",
   "execution_count": 39,
   "id": "d3359d7c",
   "metadata": {},
   "outputs": [],
   "source": [
    "arr = np.array([[1,2,3,4,5],[10,-3,40,32,9],[3,6,2,8,5],[11,2,1,4,3],[9,8,7,6,5]])"
   ]
  },
  {
   "cell_type": "code",
   "execution_count": 40,
   "id": "c42fca38",
   "metadata": {},
   "outputs": [],
   "source": [
    "x = 10"
   ]
  },
  {
   "cell_type": "code",
   "execution_count": 41,
   "id": "b1e487a6",
   "metadata": {},
   "outputs": [
    {
     "data": {
      "text/plain": [
       "array([[ 1,  2,  3,  4,  5],\n",
       "       [10, -3, 40, 32,  9],\n",
       "       [ 3,  6,  2,  8,  5],\n",
       "       [11,  2,  1,  4,  3],\n",
       "       [ 9,  8,  7,  6,  5]])"
      ]
     },
     "execution_count": 41,
     "metadata": {},
     "output_type": "execute_result"
    }
   ],
   "source": [
    "arr"
   ]
  },
  {
   "cell_type": "code",
   "execution_count": 47,
   "id": "8497eaf3",
   "metadata": {},
   "outputs": [
    {
     "data": {
      "text/plain": [
       "array([False,  True, False,  True, False])"
      ]
     },
     "execution_count": 47,
     "metadata": {},
     "output_type": "execute_result"
    }
   ],
   "source": [
    "np.any(arr > x,axis = 1)  # any give boolean reply"
   ]
  },
  {
   "cell_type": "code",
   "execution_count": 45,
   "id": "8c710571",
   "metadata": {},
   "outputs": [
    {
     "data": {
      "text/plain": [
       "(array([1, 3], dtype=int64),)"
      ]
     },
     "execution_count": 45,
     "metadata": {},
     "output_type": "execute_result"
    }
   ],
   "source": [
    "np.where(np.any(arr > x,axis = 1))"
   ]
  },
  {
   "cell_type": "code",
   "execution_count": 46,
   "id": "d88dee66",
   "metadata": {},
   "outputs": [
    {
     "data": {
      "text/plain": [
       "array([[10, -3, 40, 32,  9],\n",
       "       [11,  2,  1,  4,  3]])"
      ]
     },
     "execution_count": 46,
     "metadata": {},
     "output_type": "execute_result"
    }
   ],
   "source": [
    "arr[np.any(arr > x,axis = 1)]"
   ]
  },
  {
   "cell_type": "markdown",
   "id": "216da0f2",
   "metadata": {},
   "source": [
    "## 4. How to remove rows which contains Null values in a Numpy Array"
   ]
  },
  {
   "cell_type": "code",
   "execution_count": 49,
   "id": "5b6c6b60",
   "metadata": {},
   "outputs": [],
   "source": [
    "narr = np.array([[10.5,2.5,4.6,1.2,8.9],[23,4,11,34,56],[78,34,np.nan,23,51],[34,12,23,44,55]])"
   ]
  },
  {
   "cell_type": "code",
   "execution_count": 53,
   "id": "4bb2b916",
   "metadata": {},
   "outputs": [
    {
     "name": "stdout",
     "output_type": "stream",
     "text": [
      "[[10.5  2.5  4.6  1.2  8.9]\n",
      " [23.   4.  11.  34.  56. ]\n",
      " [78.  34.   nan 23.  51. ]\n",
      " [34.  12.  23.  44.  55. ]]\n",
      "Shape : (4, 5)\n"
     ]
    }
   ],
   "source": [
    "print(narr)\n",
    "print(\"Shape :\",narr.shape)"
   ]
  },
  {
   "cell_type": "code",
   "execution_count": 58,
   "id": "353362fa",
   "metadata": {},
   "outputs": [
    {
     "data": {
      "text/plain": [
       "array([[78., 34., nan, 23., 51.]])"
      ]
     },
     "execution_count": 58,
     "metadata": {},
     "output_type": "execute_result"
    }
   ],
   "source": [
    "narr[np.isnan(narr).any(axis = 1)] # Returm boolean"
   ]
  },
  {
   "cell_type": "code",
   "execution_count": 61,
   "id": "eafc2e24",
   "metadata": {},
   "outputs": [
    {
     "data": {
      "text/plain": [
       "array([[10.5,  2.5,  4.6,  1.2,  8.9],\n",
       "       [23. ,  4. , 11. , 34. , 56. ],\n",
       "       [34. , 12. , 23. , 44. , 55. ]])"
      ]
     },
     "execution_count": 61,
     "metadata": {},
     "output_type": "execute_result"
    }
   ],
   "source": [
    "narr[~np.isnan(narr).any(axis = 1)] # Returm boolean"
   ]
  },
  {
   "cell_type": "markdown",
   "id": "cbbfdff7",
   "metadata": {},
   "source": [
    "## 5.  How to multiply string element in a Numpy Array"
   ]
  },
  {
   "cell_type": "code",
   "execution_count": 62,
   "id": "2f161a2a",
   "metadata": {},
   "outputs": [
    {
     "data": {
      "text/plain": [
       "'AppleAppleApple'"
      ]
     },
     "execution_count": 62,
     "metadata": {},
     "output_type": "execute_result"
    }
   ],
   "source": [
    "3*\"Apple\""
   ]
  },
  {
   "cell_type": "code",
   "execution_count": 64,
   "id": "7177e07e",
   "metadata": {},
   "outputs": [],
   "source": [
    "sarr = np.array(['Nisarg','Nitin','Akash','Mayank'])"
   ]
  },
  {
   "cell_type": "code",
   "execution_count": 66,
   "id": "445cfa93",
   "metadata": {},
   "outputs": [
    {
     "data": {
      "text/plain": [
       "array(['Nisarg', 'Nitin', 'Akash', 'Mayank'], dtype='<U6')"
      ]
     },
     "execution_count": 66,
     "metadata": {},
     "output_type": "execute_result"
    }
   ],
   "source": [
    "sarr"
   ]
  },
  {
   "cell_type": "code",
   "execution_count": 69,
   "id": "4f2137fa",
   "metadata": {},
   "outputs": [
    {
     "name": "stdout",
     "output_type": "stream",
     "text": [
      "['NisargNisargNisarg' 'NitinNitinNitin' 'AkashAkashAkash'\n",
      " 'MayankMayankMayank']\n"
     ]
    }
   ],
   "source": [
    "nsarr = np.char.multiply(sarr,3)\n",
    "print(nsarr)"
   ]
  },
  {
   "cell_type": "markdown",
   "id": "ebb55591",
   "metadata": {},
   "source": [
    "## 6. How to select minimum value along the rows in Numpy Array"
   ]
  },
  {
   "cell_type": "code",
   "execution_count": 70,
   "id": "fb669a35",
   "metadata": {},
   "outputs": [
    {
     "data": {
      "text/plain": [
       "array([[1, 2, 3],\n",
       "       [4, 5, 6],\n",
       "       [7, 8, 9]])"
      ]
     },
     "execution_count": 70,
     "metadata": {},
     "output_type": "execute_result"
    }
   ],
   "source": [
    "a = np.array([[1,2,3],[4,5,6],[7,8,9]])\n",
    "a"
   ]
  },
  {
   "cell_type": "code",
   "execution_count": 71,
   "id": "6e9a6cbc",
   "metadata": {},
   "outputs": [
    {
     "data": {
      "text/plain": [
       "(3, 3)"
      ]
     },
     "execution_count": 71,
     "metadata": {},
     "output_type": "execute_result"
    }
   ],
   "source": [
    "a.shape"
   ]
  },
  {
   "cell_type": "code",
   "execution_count": 77,
   "id": "fcf8b4e5",
   "metadata": {},
   "outputs": [
    {
     "data": {
      "text/plain": [
       "array([1, 2, 3])"
      ]
     },
     "execution_count": 77,
     "metadata": {},
     "output_type": "execute_result"
    }
   ],
   "source": [
    "np.apply_along_axis(lambda x: np.min(x),arr = a,axis = 0)  # From Column"
   ]
  },
  {
   "cell_type": "code",
   "execution_count": 76,
   "id": "5f071281",
   "metadata": {},
   "outputs": [
    {
     "data": {
      "text/plain": [
       "array([1, 4, 7])"
      ]
     },
     "execution_count": 76,
     "metadata": {},
     "output_type": "execute_result"
    }
   ],
   "source": [
    "np.apply_along_axis(lambda x: np.min(x),arr = a,axis = 1)  # From Row "
   ]
  },
  {
   "cell_type": "markdown",
   "id": "36807c4e",
   "metadata": {},
   "source": [
    "## 7. How to replace diagonal value with a number of a Numpy Array"
   ]
  },
  {
   "cell_type": "code",
   "execution_count": 82,
   "id": "c88610da",
   "metadata": {},
   "outputs": [
    {
     "data": {
      "text/plain": [
       "array([[1, 2, 3],\n",
       "       [4, 5, 6],\n",
       "       [7, 8, 9]])"
      ]
     },
     "execution_count": 82,
     "metadata": {},
     "output_type": "execute_result"
    }
   ],
   "source": [
    "darr = np.array([[1,2,3],[4,5,6],[7,8,9]])\n",
    "darr"
   ]
  },
  {
   "cell_type": "code",
   "execution_count": 79,
   "id": "d249a68c",
   "metadata": {},
   "outputs": [],
   "source": [
    "x = 5"
   ]
  },
  {
   "cell_type": "code",
   "execution_count": 81,
   "id": "2191a262",
   "metadata": {},
   "outputs": [
    {
     "data": {
      "text/plain": [
       "array([[5, 2, 3],\n",
       "       [4, 5, 6],\n",
       "       [7, 8, 5]])"
      ]
     },
     "execution_count": 81,
     "metadata": {},
     "output_type": "execute_result"
    }
   ],
   "source": [
    "for i in range(len(darr)):     # BRUTE METHOD\n",
    "    for j in range(len(darr[i])):\n",
    "        if i == j:\n",
    "            darr[i][j] = x\n",
    "darr"
   ]
  },
  {
   "cell_type": "code",
   "execution_count": 84,
   "id": "641ba065",
   "metadata": {},
   "outputs": [],
   "source": [
    "np.fill_diagonal(darr,x)"
   ]
  },
  {
   "cell_type": "code",
   "execution_count": 85,
   "id": "6eba678c",
   "metadata": {},
   "outputs": [
    {
     "data": {
      "text/plain": [
       "array([[5, 2, 3],\n",
       "       [4, 5, 6],\n",
       "       [7, 8, 5]])"
      ]
     },
     "execution_count": 85,
     "metadata": {},
     "output_type": "execute_result"
    }
   ],
   "source": [
    "darr"
   ]
  },
  {
   "cell_type": "markdown",
   "id": "339efcfd",
   "metadata": {},
   "source": [
    "## 8. How to check the number is present in Numpy array and fill all the negative values with another number"
   ]
  },
  {
   "cell_type": "code",
   "execution_count": 86,
   "id": "ddad5256",
   "metadata": {},
   "outputs": [],
   "source": [
    " arrr = np.array([12,34,-1,4,-23,43,25,-3,42,9])"
   ]
  },
  {
   "cell_type": "code",
   "execution_count": 87,
   "id": "2a21296e",
   "metadata": {},
   "outputs": [
    {
     "data": {
      "text/plain": [
       "array([ 12,  34,  -1,   4, -23,  43,  25,  -3,  42,   9])"
      ]
     },
     "execution_count": 87,
     "metadata": {},
     "output_type": "execute_result"
    }
   ],
   "source": [
    "arrr"
   ]
  },
  {
   "cell_type": "code",
   "execution_count": 92,
   "id": "a9578a00",
   "metadata": {},
   "outputs": [
    {
     "data": {
      "text/plain": [
       "array([ True, False, False, False, False,  True, False, False, False,\n",
       "       False])"
      ]
     },
     "execution_count": 92,
     "metadata": {},
     "output_type": "execute_result"
    }
   ],
   "source": [
    "np.isin(arrr,[12,3,43])"
   ]
  },
  {
   "cell_type": "code",
   "execution_count": 95,
   "id": "e135ab61",
   "metadata": {},
   "outputs": [],
   "source": [
    "arrr[arrr<0] = 8"
   ]
  },
  {
   "cell_type": "code",
   "execution_count": 96,
   "id": "e7c6ca3f",
   "metadata": {},
   "outputs": [
    {
     "data": {
      "text/plain": [
       "array([12, 34,  8,  4,  8, 43, 25,  8, 42,  9])"
      ]
     },
     "execution_count": 96,
     "metadata": {},
     "output_type": "execute_result"
    }
   ],
   "source": [
    "arrr"
   ]
  },
  {
   "cell_type": "markdown",
   "id": "c3dac76f",
   "metadata": {},
   "source": [
    "## 9. How to use reshape numpy array. And create new numpy array"
   ]
  },
  {
   "cell_type": "code",
   "execution_count": 98,
   "id": "fd612c20",
   "metadata": {},
   "outputs": [],
   "source": [
    "m_arr = np.arange(16)"
   ]
  },
  {
   "cell_type": "code",
   "execution_count": 100,
   "id": "314599f4",
   "metadata": {},
   "outputs": [
    {
     "data": {
      "text/plain": [
       "16"
      ]
     },
     "execution_count": 100,
     "metadata": {},
     "output_type": "execute_result"
    }
   ],
   "source": [
    "len(m_arr)"
   ]
  },
  {
   "cell_type": "code",
   "execution_count": 102,
   "id": "dc56ffef",
   "metadata": {},
   "outputs": [],
   "source": [
    "m_arr = m_arr.reshape(4,4)"
   ]
  },
  {
   "cell_type": "code",
   "execution_count": 103,
   "id": "6e302316",
   "metadata": {},
   "outputs": [
    {
     "data": {
      "text/plain": [
       "array([[ 0,  1,  2,  3],\n",
       "       [ 4,  5,  6,  7],\n",
       "       [ 8,  9, 10, 11],\n",
       "       [12, 13, 14, 15]])"
      ]
     },
     "execution_count": 103,
     "metadata": {},
     "output_type": "execute_result"
    }
   ],
   "source": [
    "m_arr"
   ]
  },
  {
   "cell_type": "code",
   "execution_count": 104,
   "id": "136e01ef",
   "metadata": {},
   "outputs": [],
   "source": [
    "new_arr = m_arr[::-1]"
   ]
  },
  {
   "cell_type": "code",
   "execution_count": 106,
   "id": "443143cd",
   "metadata": {},
   "outputs": [
    {
     "data": {
      "text/plain": [
       "array([[12, 13, 14, 15],\n",
       "       [ 8,  9, 10, 11],\n",
       "       [ 4,  5,  6,  7],\n",
       "       [ 0,  1,  2,  3]])"
      ]
     },
     "execution_count": 106,
     "metadata": {},
     "output_type": "execute_result"
    }
   ],
   "source": [
    "new_arr"
   ]
  },
  {
   "cell_type": "markdown",
   "id": "f087e279",
   "metadata": {},
   "source": [
    "## 10. Use of numpy pad function in Numpy array. How to add padding / border to a matrix "
   ]
  },
  {
   "cell_type": "code",
   "execution_count": 109,
   "id": "70666e0f",
   "metadata": {},
   "outputs": [
    {
     "data": {
      "text/plain": [
       "array([[1., 1.],\n",
       "       [1., 1.]])"
      ]
     },
     "execution_count": 109,
     "metadata": {},
     "output_type": "execute_result"
    }
   ],
   "source": [
    "ar = np.ones((2,2))\n",
    "ar"
   ]
  },
  {
   "cell_type": "code",
   "execution_count": 110,
   "id": "a30acb71",
   "metadata": {},
   "outputs": [
    {
     "data": {
      "text/plain": [
       "array([[0., 0., 0., 0.],\n",
       "       [0., 1., 1., 0.],\n",
       "       [0., 1., 1., 0.],\n",
       "       [0., 0., 0., 0.]])"
      ]
     },
     "execution_count": 110,
     "metadata": {},
     "output_type": "execute_result"
    }
   ],
   "source": [
    "np.pad(ar,pad_width = 1,mode = 'constant',constant_values= 0)"
   ]
  },
  {
   "cell_type": "markdown",
   "id": "2bfa9c97",
   "metadata": {},
   "source": [
    "## 11. Calculate sin and cos values of the numbers given in the array"
   ]
  },
  {
   "cell_type": "code",
   "execution_count": 111,
   "id": "c1a13746",
   "metadata": {},
   "outputs": [],
   "source": [
    "ar = np.array([0,30,45,60,90])"
   ]
  },
  {
   "cell_type": "code",
   "execution_count": 112,
   "id": "7368420f",
   "metadata": {},
   "outputs": [
    {
     "data": {
      "text/plain": [
       "array([ 0.        , -0.98803162,  0.85090352, -0.30481062,  0.89399666])"
      ]
     },
     "execution_count": 112,
     "metadata": {},
     "output_type": "execute_result"
    }
   ],
   "source": [
    "np.sin(ar) # expect input in radians."
   ]
  },
  {
   "cell_type": "code",
   "execution_count": 118,
   "id": "5f440d07",
   "metadata": {},
   "outputs": [
    {
     "data": {
      "text/plain": [
       "array([0.        , 0.52359878, 0.78539816, 1.04719755, 1.57079633])"
      ]
     },
     "execution_count": 118,
     "metadata": {},
     "output_type": "execute_result"
    }
   ],
   "source": [
    "sar = ar * np.pi / 180  # to convert degree to radians\n",
    "sar"
   ]
  },
  {
   "cell_type": "code",
   "execution_count": 119,
   "id": "4b21d72c",
   "metadata": {},
   "outputs": [
    {
     "data": {
      "text/plain": [
       "array([0.        , 0.5       , 0.70710678, 0.8660254 , 1.        ])"
      ]
     },
     "execution_count": 119,
     "metadata": {},
     "output_type": "execute_result"
    }
   ],
   "source": [
    "np.sin(sar)"
   ]
  },
  {
   "cell_type": "code",
   "execution_count": 120,
   "id": "49d48f4c",
   "metadata": {},
   "outputs": [
    {
     "data": {
      "text/plain": [
       "array([1.00000000e+00, 8.66025404e-01, 7.07106781e-01, 5.00000000e-01,\n",
       "       6.12323400e-17])"
      ]
     },
     "execution_count": 120,
     "metadata": {},
     "output_type": "execute_result"
    }
   ],
   "source": [
    "np.cos(sar)"
   ]
  },
  {
   "cell_type": "markdown",
   "id": "4fc3c38e",
   "metadata": {},
   "source": [
    "## 12.  How to remove one dimensional array in Numpy using Squeeze function and check whether number is present in the array"
   ]
  },
  {
   "cell_type": "code",
   "execution_count": 122,
   "id": "9986e8ab",
   "metadata": {},
   "outputs": [],
   "source": [
    "ar = np.array([[[1,2,3],[4,5,6],[7,8,9]]])"
   ]
  },
  {
   "cell_type": "code",
   "execution_count": 123,
   "id": "0b1b9691",
   "metadata": {},
   "outputs": [
    {
     "data": {
      "text/plain": [
       "(1, 3, 3)"
      ]
     },
     "execution_count": 123,
     "metadata": {},
     "output_type": "execute_result"
    }
   ],
   "source": [
    "ar.shape"
   ]
  },
  {
   "cell_type": "code",
   "execution_count": 127,
   "id": "77510a58",
   "metadata": {},
   "outputs": [],
   "source": [
    "nar =  np.squeeze(ar) # remoove extra dimension"
   ]
  },
  {
   "cell_type": "code",
   "execution_count": 128,
   "id": "be4393a4",
   "metadata": {},
   "outputs": [
    {
     "data": {
      "text/plain": [
       "array([[1, 2, 3],\n",
       "       [4, 5, 6],\n",
       "       [7, 8, 9]])"
      ]
     },
     "execution_count": 128,
     "metadata": {},
     "output_type": "execute_result"
    }
   ],
   "source": [
    "nar"
   ]
  },
  {
   "cell_type": "code",
   "execution_count": 129,
   "id": "1cd860c8",
   "metadata": {},
   "outputs": [
    {
     "data": {
      "text/plain": [
       "(3, 3)"
      ]
     },
     "execution_count": 129,
     "metadata": {},
     "output_type": "execute_result"
    }
   ],
   "source": [
    "nar.shape"
   ]
  },
  {
   "cell_type": "code",
   "execution_count": 132,
   "id": "4624305b",
   "metadata": {},
   "outputs": [
    {
     "name": "stdout",
     "output_type": "stream",
     "text": [
      "True\n",
      "False\n",
      "True\n",
      "True\n"
     ]
    }
   ],
   "source": [
    "print(7 in nar)\n",
    "print(12 in nar)\n",
    "print(3 in nar)\n",
    "print(9 in nar)"
   ]
  },
  {
   "cell_type": "markdown",
   "id": "772715e5",
   "metadata": {},
   "source": [
    "## 13. Compare two numpy arrays"
   ]
  },
  {
   "cell_type": "code",
   "execution_count": 133,
   "id": "76f8ad77",
   "metadata": {},
   "outputs": [],
   "source": [
    "a= np.array([121,23,45])\n",
    "b = np.array([234,12,42])"
   ]
  },
  {
   "cell_type": "code",
   "execution_count": 134,
   "id": "184ae4b8",
   "metadata": {},
   "outputs": [
    {
     "data": {
      "text/plain": [
       "array([False,  True,  True])"
      ]
     },
     "execution_count": 134,
     "metadata": {},
     "output_type": "execute_result"
    }
   ],
   "source": [
    "a>b"
   ]
  },
  {
   "cell_type": "code",
   "execution_count": 135,
   "id": "4a4805d0",
   "metadata": {},
   "outputs": [
    {
     "data": {
      "text/plain": [
       "array([False,  True,  True])"
      ]
     },
     "execution_count": 135,
     "metadata": {},
     "output_type": "execute_result"
    }
   ],
   "source": [
    "np.greater(a,b)"
   ]
  },
  {
   "cell_type": "code",
   "execution_count": 136,
   "id": "cf0ea16b",
   "metadata": {},
   "outputs": [
    {
     "data": {
      "text/plain": [
       "array([False,  True,  True])"
      ]
     },
     "execution_count": 136,
     "metadata": {},
     "output_type": "execute_result"
    }
   ],
   "source": [
    "a >= b"
   ]
  },
  {
   "cell_type": "code",
   "execution_count": 137,
   "id": "aebc1a81",
   "metadata": {},
   "outputs": [
    {
     "data": {
      "text/plain": [
       "array([False,  True,  True])"
      ]
     },
     "execution_count": 137,
     "metadata": {},
     "output_type": "execute_result"
    }
   ],
   "source": [
    "np.greater_equal(a,b)"
   ]
  },
  {
   "cell_type": "code",
   "execution_count": 138,
   "id": "27ed1b92",
   "metadata": {},
   "outputs": [
    {
     "data": {
      "text/plain": [
       "array([ True, False, False])"
      ]
     },
     "execution_count": 138,
     "metadata": {},
     "output_type": "execute_result"
    }
   ],
   "source": [
    "np.less_equal(a,b)"
   ]
  },
  {
   "cell_type": "code",
   "execution_count": 139,
   "id": "36fafd20",
   "metadata": {},
   "outputs": [
    {
     "data": {
      "text/plain": [
       "array([ True, False, False])"
      ]
     },
     "execution_count": 139,
     "metadata": {},
     "output_type": "execute_result"
    }
   ],
   "source": [
    "a<=b"
   ]
  },
  {
   "cell_type": "markdown",
   "id": "e8b70c25",
   "metadata": {},
   "source": [
    "## 14. How to stack two arrays"
   ]
  },
  {
   "cell_type": "code",
   "execution_count": 141,
   "id": "2eba4adf",
   "metadata": {},
   "outputs": [],
   "source": [
    "a = np.arange(10).reshape(2,5)\n",
    "b = np.arange(10,20).reshape(2,5)"
   ]
  },
  {
   "cell_type": "code",
   "execution_count": 142,
   "id": "b879ae4d",
   "metadata": {},
   "outputs": [
    {
     "data": {
      "text/plain": [
       "array([[0, 1, 2, 3, 4],\n",
       "       [5, 6, 7, 8, 9]])"
      ]
     },
     "execution_count": 142,
     "metadata": {},
     "output_type": "execute_result"
    }
   ],
   "source": [
    "a"
   ]
  },
  {
   "cell_type": "code",
   "execution_count": 143,
   "id": "4fc20f45",
   "metadata": {},
   "outputs": [
    {
     "data": {
      "text/plain": [
       "array([[10, 11, 12, 13, 14],\n",
       "       [15, 16, 17, 18, 19]])"
      ]
     },
     "execution_count": 143,
     "metadata": {},
     "output_type": "execute_result"
    }
   ],
   "source": [
    "b"
   ]
  },
  {
   "cell_type": "code",
   "execution_count": 144,
   "id": "f7a9e559",
   "metadata": {},
   "outputs": [
    {
     "data": {
      "text/plain": [
       "array([[ 0,  1,  2,  3,  4, 10, 11, 12, 13, 14],\n",
       "       [ 5,  6,  7,  8,  9, 15, 16, 17, 18, 19]])"
      ]
     },
     "execution_count": 144,
     "metadata": {},
     "output_type": "execute_result"
    }
   ],
   "source": [
    "np.concatenate([a,b],axis = 1)"
   ]
  },
  {
   "cell_type": "code",
   "execution_count": 145,
   "id": "3e27fac4",
   "metadata": {},
   "outputs": [
    {
     "data": {
      "text/plain": [
       "array([[ 0,  1,  2,  3,  4],\n",
       "       [ 5,  6,  7,  8,  9],\n",
       "       [10, 11, 12, 13, 14],\n",
       "       [15, 16, 17, 18, 19]])"
      ]
     },
     "execution_count": 145,
     "metadata": {},
     "output_type": "execute_result"
    }
   ],
   "source": [
    "np.concatenate([a,b],axis = 0)"
   ]
  },
  {
   "cell_type": "code",
   "execution_count": 147,
   "id": "dd5a7543",
   "metadata": {},
   "outputs": [
    {
     "data": {
      "text/plain": [
       "array([[ 0,  1,  2,  3,  4, 10, 11, 12, 13, 14],\n",
       "       [ 5,  6,  7,  8,  9, 15, 16, 17, 18, 19]])"
      ]
     },
     "execution_count": 147,
     "metadata": {},
     "output_type": "execute_result"
    }
   ],
   "source": [
    "np.hstack([a,b])"
   ]
  },
  {
   "cell_type": "code",
   "execution_count": 148,
   "id": "16f93cd5",
   "metadata": {},
   "outputs": [
    {
     "data": {
      "text/plain": [
       "array([[ 0,  1,  2,  3,  4],\n",
       "       [ 5,  6,  7,  8,  9],\n",
       "       [10, 11, 12, 13, 14],\n",
       "       [15, 16, 17, 18, 19]])"
      ]
     },
     "execution_count": 148,
     "metadata": {},
     "output_type": "execute_result"
    }
   ],
   "source": [
    "np.vstack([a,b])"
   ]
  },
  {
   "cell_type": "code",
   "execution_count": 149,
   "id": "c3529d54",
   "metadata": {},
   "outputs": [
    {
     "data": {
      "text/plain": [
       "array([[ 0,  1,  2,  3,  4, 10, 11, 12, 13, 14],\n",
       "       [ 5,  6,  7,  8,  9, 15, 16, 17, 18, 19]])"
      ]
     },
     "execution_count": 149,
     "metadata": {},
     "output_type": "execute_result"
    }
   ],
   "source": [
    "np.c_[a,b]"
   ]
  },
  {
   "cell_type": "code",
   "execution_count": 150,
   "id": "3df93c48",
   "metadata": {},
   "outputs": [
    {
     "data": {
      "text/plain": [
       "array([[ 0,  1,  2,  3,  4],\n",
       "       [ 5,  6,  7,  8,  9],\n",
       "       [10, 11, 12, 13, 14],\n",
       "       [15, 16, 17, 18, 19]])"
      ]
     },
     "execution_count": 150,
     "metadata": {},
     "output_type": "execute_result"
    }
   ],
   "source": [
    "np.r_[a,b]"
   ]
  },
  {
   "cell_type": "markdown",
   "id": "893593cf",
   "metadata": {},
   "source": [
    "## 15. How to put values from a Numpy array over another numpy array at certain positions"
   ]
  },
  {
   "cell_type": "code",
   "execution_count": 151,
   "id": "dc43bde3",
   "metadata": {},
   "outputs": [],
   "source": [
    "arr1 = np.array([23,12,45,7,65,90])"
   ]
  },
  {
   "cell_type": "code",
   "execution_count": 152,
   "id": "ef528749",
   "metadata": {},
   "outputs": [
    {
     "name": "stdout",
     "output_type": "stream",
     "text": [
      "[23 12 45  7 65 90]\n"
     ]
    }
   ],
   "source": [
    "print(arr1)"
   ]
  },
  {
   "cell_type": "code",
   "execution_count": 154,
   "id": "86f9f1ea",
   "metadata": {},
   "outputs": [],
   "source": [
    "arr2 = np.array([4,5,6])"
   ]
  },
  {
   "cell_type": "code",
   "execution_count": 155,
   "id": "d0d8afcc",
   "metadata": {},
   "outputs": [
    {
     "name": "stdout",
     "output_type": "stream",
     "text": [
      "[4 5 6]\n"
     ]
    }
   ],
   "source": [
    "print(arr2)"
   ]
  },
  {
   "cell_type": "code",
   "execution_count": 156,
   "id": "70992878",
   "metadata": {},
   "outputs": [],
   "source": [
    "arr1.put([1,3,5],arr2)"
   ]
  },
  {
   "cell_type": "code",
   "execution_count": 157,
   "id": "938846c2",
   "metadata": {},
   "outputs": [
    {
     "data": {
      "text/plain": [
       "array([23,  4, 45,  5, 65,  6])"
      ]
     },
     "execution_count": 157,
     "metadata": {},
     "output_type": "execute_result"
    }
   ],
   "source": [
    "arr1"
   ]
  },
  {
   "cell_type": "code",
   "execution_count": 158,
   "id": "4620f586",
   "metadata": {},
   "outputs": [
    {
     "data": {
      "text/plain": [
       "array([4, 5, 6])"
      ]
     },
     "execution_count": 158,
     "metadata": {},
     "output_type": "execute_result"
    }
   ],
   "source": [
    "arr2"
   ]
  },
  {
   "cell_type": "markdown",
   "id": "68a5f85e",
   "metadata": {},
   "source": [
    "## 16. Numpy Delete function and Insert function"
   ]
  },
  {
   "cell_type": "code",
   "execution_count": 173,
   "id": "8aa6ea32",
   "metadata": {},
   "outputs": [
    {
     "name": "stdout",
     "output_type": "stream",
     "text": [
      "[[1. 1. 1.]\n",
      " [1. 1. 1.]\n",
      " [1. 1. 1.]]\n"
     ]
    }
   ],
   "source": [
    "ar = np.ones([3,3])\n",
    "print(ar)"
   ]
  },
  {
   "cell_type": "code",
   "execution_count": 174,
   "id": "ac5c2402",
   "metadata": {},
   "outputs": [],
   "source": [
    "column = np.array([10,11,12])"
   ]
  },
  {
   "cell_type": "code",
   "execution_count": 175,
   "id": "b418d131",
   "metadata": {},
   "outputs": [],
   "source": [
    "ar = np.delete(ar,[1],axis=1)"
   ]
  },
  {
   "cell_type": "code",
   "execution_count": 176,
   "id": "7668f09b",
   "metadata": {},
   "outputs": [
    {
     "name": "stdout",
     "output_type": "stream",
     "text": [
      "[[1. 1.]\n",
      " [1. 1.]\n",
      " [1. 1.]]\n"
     ]
    }
   ],
   "source": [
    "print(ar)"
   ]
  },
  {
   "cell_type": "code",
   "execution_count": 178,
   "id": "459528c5",
   "metadata": {},
   "outputs": [
    {
     "data": {
      "text/plain": [
       "array([[ 1., 10.,  1.],\n",
       "       [ 1., 11.,  1.],\n",
       "       [ 1., 12.,  1.]])"
      ]
     },
     "execution_count": 178,
     "metadata": {},
     "output_type": "execute_result"
    }
   ],
   "source": [
    "np.insert(ar,1,column,axis=1)"
   ]
  },
  {
   "cell_type": "markdown",
   "id": "f6125462",
   "metadata": {},
   "source": [
    "## 17. How to write a program to create an array of 10 zeros, 10 ones, 10 fives"
   ]
  },
  {
   "cell_type": "code",
   "execution_count": 190,
   "id": "cf0520e7",
   "metadata": {},
   "outputs": [],
   "source": [
    "ar1 = np.ones(10)\n",
    "ar2 = np.zeros(10)\n",
    "ar3 = np.ones(10)*5"
   ]
  },
  {
   "cell_type": "code",
   "execution_count": 191,
   "id": "555f94e1",
   "metadata": {},
   "outputs": [
    {
     "data": {
      "text/plain": [
       "array([1., 1., 1., 1., 1., 1., 1., 1., 1., 1.])"
      ]
     },
     "execution_count": 191,
     "metadata": {},
     "output_type": "execute_result"
    }
   ],
   "source": [
    "ar1"
   ]
  },
  {
   "cell_type": "code",
   "execution_count": 192,
   "id": "f6672f51",
   "metadata": {},
   "outputs": [
    {
     "data": {
      "text/plain": [
       "array([0., 0., 0., 0., 0., 0., 0., 0., 0., 0.])"
      ]
     },
     "execution_count": 192,
     "metadata": {},
     "output_type": "execute_result"
    }
   ],
   "source": [
    "ar2"
   ]
  },
  {
   "cell_type": "code",
   "execution_count": 193,
   "id": "ca8f1b6a",
   "metadata": {},
   "outputs": [
    {
     "data": {
      "text/plain": [
       "array([5., 5., 5., 5., 5., 5., 5., 5., 5., 5.])"
      ]
     },
     "execution_count": 193,
     "metadata": {},
     "output_type": "execute_result"
    }
   ],
   "source": [
    "ar3"
   ]
  },
  {
   "cell_type": "markdown",
   "id": "a33af2cd",
   "metadata": {},
   "source": [
    "## 18.  How to create random sequences with different functions like Numpy repeat function, Numpy tile and Numpy Concatenate"
   ]
  },
  {
   "cell_type": "code",
   "execution_count": 194,
   "id": "febba0eb",
   "metadata": {},
   "outputs": [],
   "source": [
    "a = np.array([1,2,3])"
   ]
  },
  {
   "cell_type": "code",
   "execution_count": 195,
   "id": "9572fb99",
   "metadata": {},
   "outputs": [
    {
     "data": {
      "text/plain": [
       "array([1, 2, 3])"
      ]
     },
     "execution_count": 195,
     "metadata": {},
     "output_type": "execute_result"
    }
   ],
   "source": [
    "a"
   ]
  },
  {
   "cell_type": "code",
   "execution_count": 198,
   "id": "9782f230",
   "metadata": {},
   "outputs": [],
   "source": [
    "b = np.repeat(a,3)"
   ]
  },
  {
   "cell_type": "code",
   "execution_count": 199,
   "id": "3a8eb13f",
   "metadata": {},
   "outputs": [],
   "source": [
    "c = np.tile(a,3)"
   ]
  },
  {
   "cell_type": "code",
   "execution_count": 200,
   "id": "75c75bcd",
   "metadata": {},
   "outputs": [
    {
     "data": {
      "text/plain": [
       "array([1, 1, 1, 2, 2, 2, 3, 3, 3, 1, 2, 3, 1, 2, 3, 1, 2, 3])"
      ]
     },
     "execution_count": 200,
     "metadata": {},
     "output_type": "execute_result"
    }
   ],
   "source": [
    "np.concatenate([b,c])"
   ]
  },
  {
   "cell_type": "markdown",
   "id": "03125ec9",
   "metadata": {},
   "source": [
    "## 19. How to create a Numpy array and determine the memory size of the Numpy array"
   ]
  },
  {
   "cell_type": "code",
   "execution_count": 201,
   "id": "07dbe1ef",
   "metadata": {},
   "outputs": [],
   "source": [
    "arr = np.array([1,7,13,105])"
   ]
  },
  {
   "cell_type": "code",
   "execution_count": 202,
   "id": "5581be8c",
   "metadata": {},
   "outputs": [
    {
     "name": "stdout",
     "output_type": "stream",
     "text": [
      "[  1   7  13 105]\n"
     ]
    }
   ],
   "source": [
    "print(arr)"
   ]
  },
  {
   "cell_type": "code",
   "execution_count": 203,
   "id": "f3ce0fcb",
   "metadata": {},
   "outputs": [
    {
     "data": {
      "text/plain": [
       "4"
      ]
     },
     "execution_count": 203,
     "metadata": {},
     "output_type": "execute_result"
    }
   ],
   "source": [
    "arr.itemsize"
   ]
  },
  {
   "cell_type": "code",
   "execution_count": 204,
   "id": "89b98c1a",
   "metadata": {},
   "outputs": [
    {
     "data": {
      "text/plain": [
       "4"
      ]
     },
     "execution_count": 204,
     "metadata": {},
     "output_type": "execute_result"
    }
   ],
   "source": [
    "arr.size"
   ]
  },
  {
   "cell_type": "code",
   "execution_count": 205,
   "id": "1fe49fb1",
   "metadata": {},
   "outputs": [
    {
     "data": {
      "text/plain": [
       "16"
      ]
     },
     "execution_count": 205,
     "metadata": {},
     "output_type": "execute_result"
    }
   ],
   "source": [
    "arr.size * arr.itemsize"
   ]
  }
 ],
 "metadata": {
  "kernelspec": {
   "display_name": "Python 3 (ipykernel)",
   "language": "python",
   "name": "python3"
  },
  "language_info": {
   "codemirror_mode": {
    "name": "ipython",
    "version": 3
   },
   "file_extension": ".py",
   "mimetype": "text/x-python",
   "name": "python",
   "nbconvert_exporter": "python",
   "pygments_lexer": "ipython3",
   "version": "3.9.12"
  }
 },
 "nbformat": 4,
 "nbformat_minor": 5
}
