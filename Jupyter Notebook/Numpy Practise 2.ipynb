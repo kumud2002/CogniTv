{
 "cells": [
  {
   "cell_type": "markdown",
   "id": "ae73109f",
   "metadata": {},
   "source": [
    "# Numpy Practise for CogniTv"
   ]
  },
  {
   "cell_type": "code",
   "execution_count": 41,
   "id": "6219089c",
   "metadata": {},
   "outputs": [],
   "source": [
    "import numpy as np"
   ]
  },
  {
   "cell_type": "code",
   "execution_count": 4,
   "id": "77b8d7d3-f8d6-4ff7-b89f-4c597b65552f",
   "metadata": {},
   "outputs": [
    {
     "name": "stdout",
     "output_type": "stream",
     "text": [
      "[[5 5 5 5 5 5]\n",
      " [5 5 5 5 5 5]\n",
      " [5 5 5 5 5 5]\n",
      " [5 5 5 5 5 5]\n",
      " [5 5 5 5 5 5]\n",
      " [5 5 5 5 5 5]] [[0. 0. 0. 0. 0. 0.]\n",
      " [0. 0. 0. 0. 0. 0.]\n",
      " [0. 0. 0. 0. 0. 0.]\n",
      " [0. 0. 0. 0. 0. 0.]\n",
      " [0. 0. 0. 0. 0. 0.]\n",
      " [0. 0. 0. 0. 0. 0.]]\n",
      "<class 'numpy.ndarray'>\n"
     ]
    }
   ],
   "source": [
    "n1 = np.full((6,6),5)\n",
    "n2 = np.zeros((6,6))\n",
    "print(n1,n2)\n",
    "print(type(n1))\n"
   ]
  },
  {
   "cell_type": "code",
   "execution_count": 5,
   "id": "20acb1c1-5378-4d00-bb95-b1634bc36fe9",
   "metadata": {},
   "outputs": [
    {
     "data": {
      "text/plain": [
       "numpy.ndarray"
      ]
     },
     "execution_count": 5,
     "metadata": {},
     "output_type": "execute_result"
    }
   ],
   "source": [
    "type(n2)"
   ]
  },
  {
   "cell_type": "code",
   "execution_count": 6,
   "id": "f8af74d5-bd1d-41ab-8d4b-16ca9e69ba9c",
   "metadata": {},
   "outputs": [
    {
     "data": {
      "text/plain": [
       "array([[9, 9, 9, 9, 9, 9],\n",
       "       [9, 9, 9, 9, 9, 9],\n",
       "       [9, 9, 9, 9, 9, 9]])"
      ]
     },
     "execution_count": 6,
     "metadata": {},
     "output_type": "execute_result"
    }
   ],
   "source": [
    "n6 = np.full((3,6),(9))\n",
    "n6"
   ]
  },
  {
   "cell_type": "code",
   "execution_count": 7,
   "id": "72c52c34-d834-485d-ac4b-a8366a2ac664",
   "metadata": {},
   "outputs": [
    {
     "data": {
      "text/plain": [
       "array([10, 11, 12, 13, 14, 15, 16, 17, 18, 19])"
      ]
     },
     "execution_count": 7,
     "metadata": {},
     "output_type": "execute_result"
    }
   ],
   "source": [
    "n7 = np.arange(10,20)\n",
    "n7"
   ]
  },
  {
   "cell_type": "code",
   "execution_count": 8,
   "id": "6651b7fd-5b5c-4407-a494-1a2c2191259b",
   "metadata": {},
   "outputs": [],
   "source": [
    "n8 = np.arange(10,55,5)"
   ]
  },
  {
   "cell_type": "code",
   "execution_count": 9,
   "id": "efe9db1c-ce3c-41e1-8b0a-89d827fa0485",
   "metadata": {},
   "outputs": [
    {
     "data": {
      "text/plain": [
       "array([10, 15, 20, 25, 30, 35, 40, 45, 50])"
      ]
     },
     "execution_count": 9,
     "metadata": {},
     "output_type": "execute_result"
    }
   ],
   "source": [
    "n8"
   ]
  },
  {
   "cell_type": "code",
   "execution_count": 10,
   "id": "97dc1879-bcdc-4cbb-a0b2-29d0fc88fabe",
   "metadata": {},
   "outputs": [
    {
     "data": {
      "text/plain": [
       "array([ 1,  5, 84,  3, 67])"
      ]
     },
     "execution_count": 10,
     "metadata": {},
     "output_type": "execute_result"
    }
   ],
   "source": [
    "n9 = np.random.randint(1,100,5)\n",
    "n9"
   ]
  },
  {
   "cell_type": "code",
   "execution_count": 11,
   "id": "c22496fc-1b0f-4570-b929-7002f6627e97",
   "metadata": {},
   "outputs": [],
   "source": [
    "b = np.array([[1,23,4,5,5],[56,8,9,4,6]])"
   ]
  },
  {
   "cell_type": "code",
   "execution_count": 12,
   "id": "4728dec4-b978-4644-be74-62d0948724bf",
   "metadata": {},
   "outputs": [
    {
     "data": {
      "text/plain": [
       "(2, 5)"
      ]
     },
     "execution_count": 12,
     "metadata": {},
     "output_type": "execute_result"
    }
   ],
   "source": [
    "b.shape"
   ]
  },
  {
   "cell_type": "code",
   "execution_count": 13,
   "id": "12e0b1da-4e18-41f7-99d3-c89f3ee9c186",
   "metadata": {},
   "outputs": [
    {
     "data": {
      "text/plain": [
       "array([[ 1, 23,  4,  5,  5],\n",
       "       [56,  8,  9,  4,  6]])"
      ]
     },
     "execution_count": 13,
     "metadata": {},
     "output_type": "execute_result"
    }
   ],
   "source": [
    "b"
   ]
  },
  {
   "cell_type": "code",
   "execution_count": 14,
   "id": "41927a50-7e79-439a-88f5-94aa2d802df4",
   "metadata": {},
   "outputs": [],
   "source": [
    "b.shape= (5,2)"
   ]
  },
  {
   "cell_type": "code",
   "execution_count": 15,
   "id": "4e2a3a55-e6d0-46d1-8386-fabea3206601",
   "metadata": {},
   "outputs": [
    {
     "data": {
      "text/plain": [
       "array([[ 1, 23],\n",
       "       [ 4,  5],\n",
       "       [ 5, 56],\n",
       "       [ 8,  9],\n",
       "       [ 4,  6]])"
      ]
     },
     "execution_count": 15,
     "metadata": {},
     "output_type": "execute_result"
    }
   ],
   "source": [
    "b"
   ]
  },
  {
   "cell_type": "code",
   "execution_count": 16,
   "id": "ff2b4c7b-1e9e-434f-a1b6-668c5019adde",
   "metadata": {},
   "outputs": [],
   "source": [
    "b.shape = (10,1)"
   ]
  },
  {
   "cell_type": "code",
   "execution_count": 17,
   "id": "ec7744f7-843a-4906-a9e2-4dc764f1887c",
   "metadata": {},
   "outputs": [
    {
     "data": {
      "text/plain": [
       "array([[ 1],\n",
       "       [23],\n",
       "       [ 4],\n",
       "       [ 5],\n",
       "       [ 5],\n",
       "       [56],\n",
       "       [ 8],\n",
       "       [ 9],\n",
       "       [ 4],\n",
       "       [ 6]])"
      ]
     },
     "execution_count": 17,
     "metadata": {},
     "output_type": "execute_result"
    }
   ],
   "source": [
    "b"
   ]
  },
  {
   "cell_type": "code",
   "execution_count": 18,
   "id": "4a1e954b-3785-4de2-9ae2-6e726223a7a5",
   "metadata": {},
   "outputs": [],
   "source": [
    "a = np.array([10,30,8,99])\n",
    "b = np.array([23,55,67,9])"
   ]
  },
  {
   "cell_type": "code",
   "execution_count": 19,
   "id": "41a524b8-7bae-4a2c-8efb-2ecb8d1f7e80",
   "metadata": {},
   "outputs": [
    {
     "data": {
      "text/plain": [
       "array([[10, 30,  8, 99],\n",
       "       [23, 55, 67,  9]])"
      ]
     },
     "execution_count": 19,
     "metadata": {},
     "output_type": "execute_result"
    }
   ],
   "source": [
    "np.vstack((a,b))"
   ]
  },
  {
   "cell_type": "code",
   "execution_count": 20,
   "id": "3da06bbe-2ccf-4cba-b053-3346fbb4c0ed",
   "metadata": {},
   "outputs": [
    {
     "data": {
      "text/plain": [
       "array([10, 30,  8, 99, 23, 55, 67,  9])"
      ]
     },
     "execution_count": 20,
     "metadata": {},
     "output_type": "execute_result"
    }
   ],
   "source": [
    "\n",
    "np.hstack((a,b))"
   ]
  },
  {
   "cell_type": "code",
   "execution_count": 21,
   "id": "851cb8fe-ea05-401c-9f6d-c7980e870cf4",
   "metadata": {},
   "outputs": [
    {
     "data": {
      "text/plain": [
       "array([[10, 23],\n",
       "       [30, 55],\n",
       "       [ 8, 67],\n",
       "       [99,  9]])"
      ]
     },
     "execution_count": 21,
     "metadata": {},
     "output_type": "execute_result"
    }
   ],
   "source": [
    "np.column_stack((a,b))"
   ]
  },
  {
   "cell_type": "code",
   "execution_count": 22,
   "id": "805c3ed4-3b39-4019-a8d5-2cbf2b8fd9cf",
   "metadata": {},
   "outputs": [],
   "source": [
    "a = np.array([10,20,30,40,50,60])\n",
    "b = np.array([50,60,70,80,90,100])"
   ]
  },
  {
   "cell_type": "code",
   "execution_count": 23,
   "id": "d3d294f0-3c40-44d7-8d96-106309978a1c",
   "metadata": {},
   "outputs": [
    {
     "data": {
      "text/plain": [
       "array([50, 60])"
      ]
     },
     "execution_count": 23,
     "metadata": {},
     "output_type": "execute_result"
    }
   ],
   "source": [
    "np.intersect1d(a,b)"
   ]
  },
  {
   "cell_type": "code",
   "execution_count": 24,
   "id": "92b69d36-070f-4ac8-b60d-4ac181945f7f",
   "metadata": {},
   "outputs": [
    {
     "data": {
      "text/plain": [
       "array([10, 20, 30, 40])"
      ]
     },
     "execution_count": 24,
     "metadata": {},
     "output_type": "execute_result"
    }
   ],
   "source": [
    "np.setdiff1d(a,b)"
   ]
  },
  {
   "cell_type": "code",
   "execution_count": 25,
   "id": "0f8208be-1e60-42ee-b193-245ade7cfda9",
   "metadata": {},
   "outputs": [
    {
     "data": {
      "text/plain": [
       "array([ 70,  80,  90, 100])"
      ]
     },
     "execution_count": 25,
     "metadata": {},
     "output_type": "execute_result"
    }
   ],
   "source": [
    "np.setdiff1d(b,a)"
   ]
  },
  {
   "cell_type": "code",
   "execution_count": 26,
   "id": "0cf396ba-8b2b-4850-9efc-5424b05fdb78",
   "metadata": {},
   "outputs": [
    {
     "data": {
      "text/plain": [
       "660"
      ]
     },
     "execution_count": 26,
     "metadata": {},
     "output_type": "execute_result"
    }
   ],
   "source": [
    "np.sum([a,b])"
   ]
  },
  {
   "cell_type": "code",
   "execution_count": 27,
   "id": "22aeb528-cc89-4978-909d-55d926239cd3",
   "metadata": {},
   "outputs": [
    {
     "data": {
      "text/plain": [
       "array([ 60,  80, 100, 120, 140, 160])"
      ]
     },
     "execution_count": 27,
     "metadata": {},
     "output_type": "execute_result"
    }
   ],
   "source": [
    "np.sum([a,b],axis=0)"
   ]
  },
  {
   "cell_type": "code",
   "execution_count": 28,
   "id": "c1dc8134-2bdd-4112-861b-c56b045e7d14",
   "metadata": {},
   "outputs": [
    {
     "data": {
      "text/plain": [
       "array([210, 450])"
      ]
     },
     "execution_count": 28,
     "metadata": {},
     "output_type": "execute_result"
    }
   ],
   "source": [
    "np.sum([a,b],axis=1)"
   ]
  },
  {
   "cell_type": "code",
   "execution_count": 29,
   "id": "a18ba2b4-0066-4074-a0ac-d0bc40926064",
   "metadata": {},
   "outputs": [
    {
     "data": {
      "text/plain": [
       "array([ 2.,  4.,  6.,  8., 10., 12.])"
      ]
     },
     "execution_count": 29,
     "metadata": {},
     "output_type": "execute_result"
    }
   ],
   "source": [
    "a = a /5\n",
    "a"
   ]
  },
  {
   "cell_type": "code",
   "execution_count": 30,
   "id": "19469284-2e97-485b-9eb1-d2c3470a5df6",
   "metadata": {},
   "outputs": [
    {
     "data": {
      "text/plain": [
       "array([ 2.,  4.,  6.,  8., 10., 12.])"
      ]
     },
     "execution_count": 30,
     "metadata": {},
     "output_type": "execute_result"
    }
   ],
   "source": [
    "a"
   ]
  },
  {
   "cell_type": "code",
   "execution_count": 31,
   "id": "0645a240-1119-4de0-a9e7-cdab12641f7a",
   "metadata": {},
   "outputs": [
    {
     "data": {
      "text/plain": [
       "array([ 50,  60,  70,  80,  90, 100])"
      ]
     },
     "execution_count": 31,
     "metadata": {},
     "output_type": "execute_result"
    }
   ],
   "source": [
    "b"
   ]
  },
  {
   "cell_type": "code",
   "execution_count": 32,
   "id": "f1e2d137-f0f8-4677-ac7d-bfffd7a70d46",
   "metadata": {},
   "outputs": [
    {
     "data": {
      "text/plain": [
       "75.0"
      ]
     },
     "execution_count": 32,
     "metadata": {},
     "output_type": "execute_result"
    }
   ],
   "source": [
    "np.mean(b)"
   ]
  },
  {
   "cell_type": "code",
   "execution_count": 34,
   "id": "0f9fd359-eac2-4360-a53c-9add9dc7e65d",
   "metadata": {},
   "outputs": [
    {
     "data": {
      "text/plain": [
       "75.0"
      ]
     },
     "execution_count": 34,
     "metadata": {},
     "output_type": "execute_result"
    }
   ],
   "source": [
    "np.median(b)"
   ]
  },
  {
   "cell_type": "code",
   "execution_count": 35,
   "id": "599db283-32b2-4875-85c9-7593e4b43b25",
   "metadata": {},
   "outputs": [
    {
     "data": {
      "text/plain": [
       "17.07825127659933"
      ]
     },
     "execution_count": 35,
     "metadata": {},
     "output_type": "execute_result"
    }
   ],
   "source": [
    "np.std(b)"
   ]
  },
  {
   "cell_type": "code",
   "execution_count": 36,
   "id": "5691327f-0990-4b04-87f6-9b8b6b450602",
   "metadata": {},
   "outputs": [
    {
     "data": {
      "text/plain": [
       "51.234753829797995"
      ]
     },
     "execution_count": 36,
     "metadata": {},
     "output_type": "execute_result"
    }
   ],
   "source": [
    "np.std(b) * 3"
   ]
  },
  {
   "cell_type": "code",
   "execution_count": 37,
   "id": "9bb085c5-67ed-47eb-b37e-430782db8957",
   "metadata": {},
   "outputs": [
    {
     "data": {
      "text/plain": [
       "array([ 50,  60,  70,  80,  90, 100])"
      ]
     },
     "execution_count": 37,
     "metadata": {},
     "output_type": "execute_result"
    }
   ],
   "source": [
    "b"
   ]
  }
 ],
 "metadata": {
  "kernelspec": {
   "display_name": "Python 3 (ipykernel)",
   "language": "python",
   "name": "python3"
  },
  "language_info": {
   "codemirror_mode": {
    "name": "ipython",
    "version": 3
   },
   "file_extension": ".py",
   "mimetype": "text/x-python",
   "name": "python",
   "nbconvert_exporter": "python",
   "pygments_lexer": "ipython3",
   "version": "3.9.12"
  }
 },
 "nbformat": 4,
 "nbformat_minor": 5
}
